{
 "cells": [
  {
   "cell_type": "markdown",
   "id": "e7d353a0-1475-476b-8251-26b671e14499",
   "metadata": {},
   "source": [
    "**-MAPPA DEI PUB \".JSON\" DATASET**"
   ]
  },
  {
   "cell_type": "code",
   "execution_count": 1,
   "id": "9026b808-0db7-40f2-acc5-8afe411034c4",
   "metadata": {
    "editable": true,
    "jupyter": {
     "source_hidden": true
    },
    "scrolled": true,
    "slideshow": {
     "slide_type": ""
    },
    "tags": []
   },
   "outputs": [
    {
     "data": {
      "text/html": [
       "<div>\n",
       "<style scoped>\n",
       "    .dataframe tbody tr th:only-of-type {\n",
       "        vertical-align: middle;\n",
       "    }\n",
       "\n",
       "    .dataframe tbody tr th {\n",
       "        vertical-align: top;\n",
       "    }\n",
       "\n",
       "    .dataframe thead th {\n",
       "        text-align: right;\n",
       "    }\n",
       "</style>\n",
       "<table border=\"1\" class=\"dataframe\">\n",
       "  <thead>\n",
       "    <tr style=\"text-align: right;\">\n",
       "      <th></th>\n",
       "      <th>ccomune</th>\n",
       "      <th>cprovincia</th>\n",
       "      <th>cregione</th>\n",
       "      <th>cnome</th>\n",
       "      <th>canno_inserimento</th>\n",
       "      <th>cdata_e_ora_inserimento</th>\n",
       "      <th>cidentificatore_in_openstreetmap</th>\n",
       "      <th>clongitudine</th>\n",
       "      <th>clatitudine</th>\n",
       "    </tr>\n",
       "  </thead>\n",
       "  <tbody>\n",
       "    <tr>\n",
       "      <th>0</th>\n",
       "      <td>ALTRO</td>\n",
       "      <td>ALTRO</td>\n",
       "      <td>ALTRO</td>\n",
       "      <td></td>\n",
       "      <td>2011</td>\n",
       "      <td>2011-06-25T23:17:43Z</td>\n",
       "      <td>1339088150</td>\n",
       "      <td>13.733257</td>\n",
       "      <td>45.575830</td>\n",
       "    </tr>\n",
       "    <tr>\n",
       "      <th>1</th>\n",
       "      <td>ALTRO</td>\n",
       "      <td>ALTRO</td>\n",
       "      <td>ALTRO</td>\n",
       "      <td>Lenny's Pub</td>\n",
       "      <td>2011</td>\n",
       "      <td>2011-07-29T17:22:56Z</td>\n",
       "      <td>1375887295</td>\n",
       "      <td>12.418681</td>\n",
       "      <td>46.747584</td>\n",
       "    </tr>\n",
       "    <tr>\n",
       "      <th>2</th>\n",
       "      <td>ALTRO</td>\n",
       "      <td>ALTRO</td>\n",
       "      <td>ALTRO</td>\n",
       "      <td>Murrayfield Pub</td>\n",
       "      <td>2015</td>\n",
       "      <td>2015-10-24T09:28:06Z</td>\n",
       "      <td>3323888102</td>\n",
       "      <td>9.029585</td>\n",
       "      <td>45.831340</td>\n",
       "    </tr>\n",
       "    <tr>\n",
       "      <th>3</th>\n",
       "      <td>ALTRO</td>\n",
       "      <td>ALTRO</td>\n",
       "      <td>ALTRO</td>\n",
       "      <td>Snop?e</td>\n",
       "      <td>2010</td>\n",
       "      <td>2010-09-22T08:32:52Z</td>\n",
       "      <td>921157802</td>\n",
       "      <td>13.640939</td>\n",
       "      <td>45.954607</td>\n",
       "    </tr>\n",
       "    <tr>\n",
       "      <th>4</th>\n",
       "      <td>Ala di Stura</td>\n",
       "      <td>TORINO</td>\n",
       "      <td>Piemonte</td>\n",
       "      <td></td>\n",
       "      <td>2012</td>\n",
       "      <td>2012-05-21T14:28:45Z</td>\n",
       "      <td>1760949034</td>\n",
       "      <td>7.307306</td>\n",
       "      <td>45.313150</td>\n",
       "    </tr>\n",
       "  </tbody>\n",
       "</table>\n",
       "</div>"
      ],
      "text/plain": [
       "        ccomune cprovincia  cregione            cnome  canno_inserimento  \\\n",
       "0         ALTRO      ALTRO     ALTRO                                2011   \n",
       "1         ALTRO      ALTRO     ALTRO      Lenny's Pub               2011   \n",
       "2         ALTRO      ALTRO     ALTRO  Murrayfield Pub               2015   \n",
       "3         ALTRO      ALTRO     ALTRO           Snop?e               2010   \n",
       "4  Ala di Stura     TORINO  Piemonte                                2012   \n",
       "\n",
       "  cdata_e_ora_inserimento  cidentificatore_in_openstreetmap  clongitudine  \\\n",
       "0    2011-06-25T23:17:43Z                        1339088150     13.733257   \n",
       "1    2011-07-29T17:22:56Z                        1375887295     12.418681   \n",
       "2    2015-10-24T09:28:06Z                        3323888102      9.029585   \n",
       "3    2010-09-22T08:32:52Z                         921157802     13.640939   \n",
       "4    2012-05-21T14:28:45Z                        1760949034      7.307306   \n",
       "\n",
       "   clatitudine  \n",
       "0    45.575830  \n",
       "1    46.747584  \n",
       "2    45.831340  \n",
       "3    45.954607  \n",
       "4    45.313150  "
      ]
     },
     "execution_count": 1,
     "metadata": {},
     "output_type": "execute_result"
    }
   ],
   "source": [
    "#connessione al dataset Mappa_pub.json\n",
    "#encoding = 'latin1' per la lettura .json\n",
    "\n",
    "import pandas as pd\n",
    "import json\n",
    "file_path = (\"../Jupyter/MAPPA/Mappa_pub.json\")\n",
    "with open(file_path, 'r', encoding = 'latin1') as f:\n",
    "    json_data = f.read()\n",
    "\n",
    "df = pd.read_json(json_data)\n",
    "df.head(5)         "
   ]
  },
  {
   "cell_type": "code",
   "execution_count": 2,
   "id": "907826ab-a697-4337-ad63-9211f7e16a1d",
   "metadata": {
    "jupyter": {
     "source_hidden": true
    }
   },
   "outputs": [
    {
     "name": "stdout",
     "output_type": "stream",
     "text": [
      "<class 'pandas.core.frame.DataFrame'>\n",
      "RangeIndex: 2497 entries, 0 to 2496\n",
      "Data columns (total 9 columns):\n",
      " #   Column                            Non-Null Count  Dtype  \n",
      "---  ------                            --------------  -----  \n",
      " 0   ccomune                           2497 non-null   object \n",
      " 1   cprovincia                        2497 non-null   object \n",
      " 2   cregione                          2497 non-null   object \n",
      " 3   cnome                             2497 non-null   object \n",
      " 4   canno_inserimento                 2497 non-null   int64  \n",
      " 5   cdata_e_ora_inserimento           2497 non-null   object \n",
      " 6   cidentificatore_in_openstreetmap  2497 non-null   int64  \n",
      " 7   clongitudine                      2497 non-null   float64\n",
      " 8   clatitudine                       2497 non-null   float64\n",
      "dtypes: float64(2), int64(2), object(5)\n",
      "memory usage: 175.7+ KB\n"
     ]
    }
   ],
   "source": [
    "df.info()"
   ]
  },
  {
   "cell_type": "code",
   "execution_count": 3,
   "id": "cd74c54e-3de5-472a-a1fc-c41ed8f3bfbe",
   "metadata": {
    "jupyter": {
     "source_hidden": true
    }
   },
   "outputs": [
    {
     "name": "stdout",
     "output_type": "stream",
     "text": [
      "  ccomune cprovincia cregione cnome  canno_inserimento  \\\n",
      "0   ALTRO      ALTRO    ALTRO                     2011   \n",
      "\n",
      "  cdata_e_ora_inserimento  cidentificatore_in_openstreetmap  clongitudine  \\\n",
      "0    2011-06-25T23:17:43Z                        1339088150     13.733257   \n",
      "\n",
      "   clatitudine  \n",
      "0     45.57583   \n",
      " \n",
      "\n",
      "         ccomune             cprovincia cregione         cnome  \\\n",
      "2496  Trani (BT)  BARLETTA ANDRIA TRANI   Puglia  Well's Fargo   \n",
      "\n",
      "      canno_inserimento cdata_e_ora_inserimento  \\\n",
      "2496               2009    2009-08-10T12:44:03Z   \n",
      "\n",
      "      cidentificatore_in_openstreetmap  clongitudine  clatitudine  \n",
      "2496                         387223648     16.436765    41.267264   \n",
      " \n",
      "\n",
      "        ccomune cprovincia   cregione              cnome  canno_inserimento  \\\n",
      "771  Monzambano    MANTOVA  Lombardia  Taverna dal Conte               2014   \n",
      "\n",
      "    cdata_e_ora_inserimento  cidentificatore_in_openstreetmap  clongitudine  \\\n",
      "771    2014-02-13T21:53:12Z                        2670731556     10.696725   \n",
      "\n",
      "     clatitudine  \n",
      "771     45.37896  \n"
     ]
    }
   ],
   "source": [
    "print(df.head(1),\"\\n\",\"\\n\")\n",
    "print(df.tail(1),\"\\n\",\"\\n\")\n",
    "print(df.sample(1))"
   ]
  },
  {
   "cell_type": "code",
   "execution_count": 4,
   "id": "e6eea799-a7c6-4bff-a152-97cbeb7cfb86",
   "metadata": {
    "jupyter": {
     "source_hidden": true
    }
   },
   "outputs": [
    {
     "data": {
      "text/plain": [
       "0       2011\n",
       "1       2011\n",
       "2       2015\n",
       "3       2010\n",
       "4       2012\n",
       "        ... \n",
       "2492    2010\n",
       "2493    2014\n",
       "2494    2014\n",
       "2495    2009\n",
       "2496    2009\n",
       "Name: canno_inserimento, Length: 2497, dtype: int64"
      ]
     },
     "execution_count": 4,
     "metadata": {},
     "output_type": "execute_result"
    }
   ],
   "source": [
    "df[\"canno_inserimento\"]"
   ]
  },
  {
   "cell_type": "code",
   "execution_count": 5,
   "id": "77e5086f-99ba-4a53-9093-c5abd701985b",
   "metadata": {
    "jupyter": {
     "source_hidden": true
    }
   },
   "outputs": [
    {
     "data": {
      "text/plain": [
       "303"
      ]
     },
     "execution_count": 5,
     "metadata": {},
     "output_type": "execute_result"
    }
   ],
   "source": [
    "#n° attività tra long 9-10 e lat 45-46\n",
    "long9_10 = (df['clongitudine']<10) & (df['clongitudine']>9)\n",
    "lat45_46 =(df['clatitudine']<46) & (df['clatitudine']>45)\n",
    "target = df.loc[(long9_10) & (lat45_46)]\n",
    "target.cnome.count()"
   ]
  },
  {
   "cell_type": "code",
   "execution_count": 6,
   "id": "7275559b-2722-4653-9dce-8c4d5b5fdee9",
   "metadata": {
    "jupyter": {
     "source_hidden": true
    },
    "scrolled": true
   },
   "outputs": [
    {
     "data": {
      "text/plain": [
       "cprovincia\n",
       "False    2424\n",
       "True       73\n",
       "Name: cprovincia, dtype: int64"
      ]
     },
     "execution_count": 6,
     "metadata": {},
     "output_type": "execute_result"
    }
   ],
   "source": [
    "#attività in provincia di vicenza\n",
    "prov_vicenza = df.cprovincia == \"VICENZA\"\n",
    "df.cprovincia.groupby(prov_vicenza).count()\n"
   ]
  },
  {
   "cell_type": "code",
   "execution_count": 7,
   "id": "1149a0f9-e7d4-4748-9cc9-13fb8bcad286",
   "metadata": {
    "jupyter": {
     "source_hidden": true
    }
   },
   "outputs": [
    {
     "data": {
      "text/html": [
       "<div>\n",
       "<style scoped>\n",
       "    .dataframe tbody tr th:only-of-type {\n",
       "        vertical-align: middle;\n",
       "    }\n",
       "\n",
       "    .dataframe tbody tr th {\n",
       "        vertical-align: top;\n",
       "    }\n",
       "\n",
       "    .dataframe thead th {\n",
       "        text-align: right;\n",
       "    }\n",
       "</style>\n",
       "<table border=\"1\" class=\"dataframe\">\n",
       "  <thead>\n",
       "    <tr style=\"text-align: right;\">\n",
       "      <th></th>\n",
       "      <th>ccomune</th>\n",
       "      <th>cprovincia</th>\n",
       "      <th>cregione</th>\n",
       "      <th>cnome</th>\n",
       "      <th>canno_inserimento</th>\n",
       "      <th>cdata_e_ora_inserimento</th>\n",
       "      <th>cidentificatore_in_openstreetmap</th>\n",
       "      <th>clongitudine</th>\n",
       "      <th>clatitudine</th>\n",
       "    </tr>\n",
       "  </thead>\n",
       "  <tbody>\n",
       "    <tr>\n",
       "      <th>64</th>\n",
       "      <td>Torino</td>\n",
       "      <td>TORINO</td>\n",
       "      <td>Piemonte</td>\n",
       "      <td>Enoteca con Cucina\"\"Tirolin\"\"</td>\n",
       "      <td>2012</td>\n",
       "      <td>2012-01-24T14:30:04Z</td>\n",
       "      <td>1603586163</td>\n",
       "      <td>7.713993</td>\n",
       "      <td>45.065174</td>\n",
       "    </tr>\n",
       "    <tr>\n",
       "      <th>493</th>\n",
       "      <td>Milano</td>\n",
       "      <td>MILANO</td>\n",
       "      <td>Lombardia</td>\n",
       "      <td>Concordia Enoteca</td>\n",
       "      <td>2014</td>\n",
       "      <td>2014-04-01T11:15:38Z</td>\n",
       "      <td>2758108717</td>\n",
       "      <td>9.171033</td>\n",
       "      <td>45.450819</td>\n",
       "    </tr>\n",
       "    <tr>\n",
       "      <th>1000</th>\n",
       "      <td>Malo</td>\n",
       "      <td>VICENZA</td>\n",
       "      <td>Veneto</td>\n",
       "      <td>Enoteca Umberto</td>\n",
       "      <td>2013</td>\n",
       "      <td>2013-04-15T08:41:22Z</td>\n",
       "      <td>1659350138</td>\n",
       "      <td>11.418507</td>\n",
       "      <td>45.653453</td>\n",
       "    </tr>\n",
       "    <tr>\n",
       "      <th>1472</th>\n",
       "      <td>Ferrara</td>\n",
       "      <td>FERRARA</td>\n",
       "      <td>Emilia-Romagna</td>\n",
       "      <td>Enoteca \"\"Al Brindisi\"\"</td>\n",
       "      <td>2015</td>\n",
       "      <td>2015-03-31T17:33:38Z</td>\n",
       "      <td>1249699754</td>\n",
       "      <td>11.620326</td>\n",
       "      <td>44.835890</td>\n",
       "    </tr>\n",
       "    <tr>\n",
       "      <th>1473</th>\n",
       "      <td>Ferrara</td>\n",
       "      <td>FERRARA</td>\n",
       "      <td>Emilia-Romagna</td>\n",
       "      <td>Enoteca \"\"da Massimo\"\"</td>\n",
       "      <td>2015</td>\n",
       "      <td>2015-03-31T17:33:38Z</td>\n",
       "      <td>1249701207</td>\n",
       "      <td>11.619559</td>\n",
       "      <td>44.834824</td>\n",
       "    </tr>\n",
       "    <tr>\n",
       "      <th>1704</th>\n",
       "      <td>CASCIANA TERME LARI</td>\n",
       "      <td>PISA</td>\n",
       "      <td>Toscana</td>\n",
       "      <td>Enoteca Il Violino Rosso</td>\n",
       "      <td>2015</td>\n",
       "      <td>2015-08-20T13:12:56Z</td>\n",
       "      <td>3706561154</td>\n",
       "      <td>10.591535</td>\n",
       "      <td>43.566210</td>\n",
       "    </tr>\n",
       "  </tbody>\n",
       "</table>\n",
       "</div>"
      ],
      "text/plain": [
       "                  ccomune cprovincia        cregione  \\\n",
       "64                 Torino     TORINO        Piemonte   \n",
       "493                Milano     MILANO       Lombardia   \n",
       "1000                 Malo    VICENZA          Veneto   \n",
       "1472              Ferrara    FERRARA  Emilia-Romagna   \n",
       "1473              Ferrara    FERRARA  Emilia-Romagna   \n",
       "1704  CASCIANA TERME LARI       PISA         Toscana   \n",
       "\n",
       "                              cnome  canno_inserimento  \\\n",
       "64    Enoteca con Cucina\"\"Tirolin\"\"               2012   \n",
       "493               Concordia Enoteca               2014   \n",
       "1000                Enoteca Umberto               2013   \n",
       "1472        Enoteca \"\"Al Brindisi\"\"               2015   \n",
       "1473         Enoteca \"\"da Massimo\"\"               2015   \n",
       "1704       Enoteca Il Violino Rosso               2015   \n",
       "\n",
       "     cdata_e_ora_inserimento  cidentificatore_in_openstreetmap  clongitudine  \\\n",
       "64      2012-01-24T14:30:04Z                        1603586163      7.713993   \n",
       "493     2014-04-01T11:15:38Z                        2758108717      9.171033   \n",
       "1000    2013-04-15T08:41:22Z                        1659350138     11.418507   \n",
       "1472    2015-03-31T17:33:38Z                        1249699754     11.620326   \n",
       "1473    2015-03-31T17:33:38Z                        1249701207     11.619559   \n",
       "1704    2015-08-20T13:12:56Z                        3706561154     10.591535   \n",
       "\n",
       "      clatitudine  \n",
       "64      45.065174  \n",
       "493     45.450819  \n",
       "1000    45.653453  \n",
       "1472    44.835890  \n",
       "1473    44.834824  \n",
       "1704    43.566210  "
      ]
     },
     "execution_count": 7,
     "metadata": {},
     "output_type": "execute_result"
    }
   ],
   "source": [
    "f_enoteca= df.cnome.str.contains(\"Enoteca\")\n",
    "df.loc[f_enoteca]"
   ]
  },
  {
   "cell_type": "code",
   "execution_count": 8,
   "id": "d5c88cdb-5e75-41ce-b9f5-902b864c7f98",
   "metadata": {
    "jupyter": {
     "source_hidden": true
    }
   },
   "outputs": [
    {
     "data": {
      "text/plain": [
       "237"
      ]
     },
     "execution_count": 8,
     "metadata": {},
     "output_type": "execute_result"
    }
   ],
   "source": [
    "#attività in lazio e abruzzo\n",
    "reg_abruzzo = df.cregione == \"Abruzzo\"\n",
    "reg_lazio = df.cregione == \"Lazio\"\n",
    "f_reg= reg_abruzzo | reg_lazio\n",
    "df.loc[f_reg].cnome.count()\n"
   ]
  },
  {
   "cell_type": "code",
   "execution_count": null,
   "id": "6e662423-b8d4-4c47-98bf-7454ac2307e8",
   "metadata": {},
   "outputs": [],
   "source": []
  },
  {
   "cell_type": "markdown",
   "id": "d374392b-b675-4cd6-ab0e-7271941cdb66",
   "metadata": {},
   "source": [
    "**-IRIS \".CSV\" DATASET**"
   ]
  },
  {
   "cell_type": "code",
   "execution_count": 9,
   "id": "0a8689d7-df68-4471-bf71-0c9dc41170e9",
   "metadata": {
    "jupyter": {
     "source_hidden": true
    }
   },
   "outputs": [],
   "source": [
    "#connessione ad iris.csv dataset\n",
    "import pandas as pd\n",
    "file= \"iris.csv\"\n",
    "dataset_path=\"../Jupyter/dati py epicode/archive/beginner_datasets/\"\n",
    "iris= pd.read_csv(filepath_or_buffer = (dataset_path+file))"
   ]
  },
  {
   "cell_type": "code",
   "execution_count": 10,
   "id": "628f502f-0b11-42d4-b849-4c7053debac9",
   "metadata": {
    "jupyter": {
     "source_hidden": true
    }
   },
   "outputs": [
    {
     "data": {
      "text/html": [
       "<div>\n",
       "<style scoped>\n",
       "    .dataframe tbody tr th:only-of-type {\n",
       "        vertical-align: middle;\n",
       "    }\n",
       "\n",
       "    .dataframe tbody tr th {\n",
       "        vertical-align: top;\n",
       "    }\n",
       "\n",
       "    .dataframe thead th {\n",
       "        text-align: right;\n",
       "    }\n",
       "</style>\n",
       "<table border=\"1\" class=\"dataframe\">\n",
       "  <thead>\n",
       "    <tr style=\"text-align: right;\">\n",
       "      <th></th>\n",
       "      <th>sepal_length</th>\n",
       "      <th>sepal_width</th>\n",
       "      <th>petal_length</th>\n",
       "      <th>petal_width</th>\n",
       "      <th>species</th>\n",
       "    </tr>\n",
       "  </thead>\n",
       "  <tbody>\n",
       "    <tr>\n",
       "      <th>0</th>\n",
       "      <td>5.1</td>\n",
       "      <td>3.5</td>\n",
       "      <td>1.4</td>\n",
       "      <td>0.2</td>\n",
       "      <td>Iris-setosa</td>\n",
       "    </tr>\n",
       "    <tr>\n",
       "      <th>1</th>\n",
       "      <td>4.9</td>\n",
       "      <td>3.0</td>\n",
       "      <td>1.4</td>\n",
       "      <td>0.2</td>\n",
       "      <td>Iris-setosa</td>\n",
       "    </tr>\n",
       "    <tr>\n",
       "      <th>2</th>\n",
       "      <td>4.7</td>\n",
       "      <td>3.2</td>\n",
       "      <td>1.3</td>\n",
       "      <td>0.2</td>\n",
       "      <td>Iris-setosa</td>\n",
       "    </tr>\n",
       "    <tr>\n",
       "      <th>3</th>\n",
       "      <td>4.6</td>\n",
       "      <td>3.1</td>\n",
       "      <td>1.5</td>\n",
       "      <td>0.2</td>\n",
       "      <td>Iris-setosa</td>\n",
       "    </tr>\n",
       "    <tr>\n",
       "      <th>4</th>\n",
       "      <td>5.0</td>\n",
       "      <td>3.6</td>\n",
       "      <td>1.4</td>\n",
       "      <td>0.2</td>\n",
       "      <td>Iris-setosa</td>\n",
       "    </tr>\n",
       "  </tbody>\n",
       "</table>\n",
       "</div>"
      ],
      "text/plain": [
       "   sepal_length  sepal_width  petal_length  petal_width      species\n",
       "0           5.1          3.5           1.4          0.2  Iris-setosa\n",
       "1           4.9          3.0           1.4          0.2  Iris-setosa\n",
       "2           4.7          3.2           1.3          0.2  Iris-setosa\n",
       "3           4.6          3.1           1.5          0.2  Iris-setosa\n",
       "4           5.0          3.6           1.4          0.2  Iris-setosa"
      ]
     },
     "execution_count": 10,
     "metadata": {},
     "output_type": "execute_result"
    }
   ],
   "source": [
    "iris.head()"
   ]
  },
  {
   "cell_type": "code",
   "execution_count": 11,
   "id": "b50b5b6a-e3b2-4514-9146-03feeffeb70e",
   "metadata": {
    "jupyter": {
     "source_hidden": true
    }
   },
   "outputs": [
    {
     "name": "stdout",
     "output_type": "stream",
     "text": [
      "lunghezza media dei petali: 3.758666666666666\n"
     ]
    }
   ],
   "source": [
    "#media totale lunghezza petali\n",
    "print(\"lunghezza media dei petali:\",iris.petal_length.mean())"
   ]
  },
  {
   "cell_type": "code",
   "execution_count": 12,
   "id": "0f8b8a17-6757-4e37-bec2-0bc57d64b2da",
   "metadata": {
    "jupyter": {
     "source_hidden": true
    }
   },
   "outputs": [
    {
     "data": {
      "text/plain": [
       "species\n",
       "Iris-setosa        1.464\n",
       "Iris-versicolor    4.260\n",
       "Iris-virginica     5.552\n",
       "Name: petal_length, dtype: float64"
      ]
     },
     "execution_count": 12,
     "metadata": {},
     "output_type": "execute_result"
    }
   ],
   "source": [
    "#media lunghezza petali per specie\n",
    "mlp=iris.groupby(\"species\").mean(\"petal_length\")\n",
    "mlp.petal_length"
   ]
  },
  {
   "cell_type": "code",
   "execution_count": 13,
   "id": "1ca1fc21-3d70-4595-acdf-043aca2209b6",
   "metadata": {
    "jupyter": {
     "source_hidden": true
    }
   },
   "outputs": [
    {
     "data": {
      "text/html": [
       "<div>\n",
       "<style scoped>\n",
       "    .dataframe tbody tr th:only-of-type {\n",
       "        vertical-align: middle;\n",
       "    }\n",
       "\n",
       "    .dataframe tbody tr th {\n",
       "        vertical-align: top;\n",
       "    }\n",
       "\n",
       "    .dataframe thead th {\n",
       "        text-align: right;\n",
       "    }\n",
       "</style>\n",
       "<table border=\"1\" class=\"dataframe\">\n",
       "  <thead>\n",
       "    <tr style=\"text-align: right;\">\n",
       "      <th></th>\n",
       "      <th>mean</th>\n",
       "      <th>min</th>\n",
       "      <th>max</th>\n",
       "    </tr>\n",
       "    <tr>\n",
       "      <th>species</th>\n",
       "      <th></th>\n",
       "      <th></th>\n",
       "      <th></th>\n",
       "    </tr>\n",
       "  </thead>\n",
       "  <tbody>\n",
       "    <tr>\n",
       "      <th>Iris-setosa</th>\n",
       "      <td>3.418</td>\n",
       "      <td>2.3</td>\n",
       "      <td>4.4</td>\n",
       "    </tr>\n",
       "    <tr>\n",
       "      <th>Iris-versicolor</th>\n",
       "      <td>2.770</td>\n",
       "      <td>2.0</td>\n",
       "      <td>3.4</td>\n",
       "    </tr>\n",
       "    <tr>\n",
       "      <th>Iris-virginica</th>\n",
       "      <td>2.974</td>\n",
       "      <td>2.2</td>\n",
       "      <td>3.8</td>\n",
       "    </tr>\n",
       "  </tbody>\n",
       "</table>\n",
       "</div>"
      ],
      "text/plain": [
       "                  mean  min  max\n",
       "species                         \n",
       "Iris-setosa      3.418  2.3  4.4\n",
       "Iris-versicolor  2.770  2.0  3.4\n",
       "Iris-virginica   2.974  2.2  3.8"
      ]
     },
     "execution_count": 13,
     "metadata": {},
     "output_type": "execute_result"
    }
   ],
   "source": [
    "#media,minimo,massimo larghezza sepali per specie\n",
    "ir=iris.groupby(\"species\")[\"sepal_width\"]\n",
    "dati_sepali =ir.agg([\"mean\",\"min\",\"max\"])\n",
    "dati_sepali"
   ]
  },
  {
   "cell_type": "code",
   "execution_count": null,
   "id": "68c342f7-c1fd-417f-87fd-2cd9a41e81b9",
   "metadata": {},
   "outputs": [],
   "source": []
  },
  {
   "cell_type": "markdown",
   "id": "5e9b28af-8c5b-409e-8683-1fb6bc61d437",
   "metadata": {},
   "source": [
    "**-WINE \"CSV.\" DATASET**"
   ]
  },
  {
   "cell_type": "code",
   "execution_count": 14,
   "id": "d8a921cd-036b-414f-8e5e-648d962b8442",
   "metadata": {
    "jupyter": {
     "source_hidden": true
    }
   },
   "outputs": [
    {
     "data": {
      "text/html": [
       "<div>\n",
       "<style scoped>\n",
       "    .dataframe tbody tr th:only-of-type {\n",
       "        vertical-align: middle;\n",
       "    }\n",
       "\n",
       "    .dataframe tbody tr th {\n",
       "        vertical-align: top;\n",
       "    }\n",
       "\n",
       "    .dataframe thead th {\n",
       "        text-align: right;\n",
       "    }\n",
       "</style>\n",
       "<table border=\"1\" class=\"dataframe\">\n",
       "  <thead>\n",
       "    <tr style=\"text-align: right;\">\n",
       "      <th></th>\n",
       "      <th>fixed acidity</th>\n",
       "      <th>volatile acidity</th>\n",
       "      <th>citric acid</th>\n",
       "      <th>residual sugar</th>\n",
       "      <th>chlorides</th>\n",
       "      <th>free sulfur dioxide</th>\n",
       "      <th>total sulfur dioxide</th>\n",
       "      <th>density</th>\n",
       "      <th>pH</th>\n",
       "      <th>sulphates</th>\n",
       "      <th>alcohol</th>\n",
       "      <th>quality</th>\n",
       "      <th>type</th>\n",
       "    </tr>\n",
       "  </thead>\n",
       "  <tbody>\n",
       "    <tr>\n",
       "      <th>0</th>\n",
       "      <td>7.4</td>\n",
       "      <td>0.70</td>\n",
       "      <td>0.00</td>\n",
       "      <td>1.9</td>\n",
       "      <td>0.076</td>\n",
       "      <td>11.0</td>\n",
       "      <td>34.0</td>\n",
       "      <td>0.99780</td>\n",
       "      <td>3.51</td>\n",
       "      <td>0.56</td>\n",
       "      <td>9.4</td>\n",
       "      <td>5</td>\n",
       "      <td>red</td>\n",
       "    </tr>\n",
       "    <tr>\n",
       "      <th>1</th>\n",
       "      <td>7.8</td>\n",
       "      <td>0.88</td>\n",
       "      <td>0.00</td>\n",
       "      <td>2.6</td>\n",
       "      <td>0.098</td>\n",
       "      <td>25.0</td>\n",
       "      <td>67.0</td>\n",
       "      <td>0.99680</td>\n",
       "      <td>3.20</td>\n",
       "      <td>0.68</td>\n",
       "      <td>9.8</td>\n",
       "      <td>5</td>\n",
       "      <td>red</td>\n",
       "    </tr>\n",
       "    <tr>\n",
       "      <th>2</th>\n",
       "      <td>7.8</td>\n",
       "      <td>0.76</td>\n",
       "      <td>0.04</td>\n",
       "      <td>2.3</td>\n",
       "      <td>0.092</td>\n",
       "      <td>15.0</td>\n",
       "      <td>54.0</td>\n",
       "      <td>0.99700</td>\n",
       "      <td>3.26</td>\n",
       "      <td>0.65</td>\n",
       "      <td>9.8</td>\n",
       "      <td>5</td>\n",
       "      <td>red</td>\n",
       "    </tr>\n",
       "    <tr>\n",
       "      <th>3</th>\n",
       "      <td>11.2</td>\n",
       "      <td>0.28</td>\n",
       "      <td>0.56</td>\n",
       "      <td>1.9</td>\n",
       "      <td>0.075</td>\n",
       "      <td>17.0</td>\n",
       "      <td>60.0</td>\n",
       "      <td>0.99800</td>\n",
       "      <td>3.16</td>\n",
       "      <td>0.58</td>\n",
       "      <td>9.8</td>\n",
       "      <td>6</td>\n",
       "      <td>red</td>\n",
       "    </tr>\n",
       "    <tr>\n",
       "      <th>4</th>\n",
       "      <td>7.4</td>\n",
       "      <td>0.70</td>\n",
       "      <td>0.00</td>\n",
       "      <td>1.9</td>\n",
       "      <td>0.076</td>\n",
       "      <td>11.0</td>\n",
       "      <td>34.0</td>\n",
       "      <td>0.99780</td>\n",
       "      <td>3.51</td>\n",
       "      <td>0.56</td>\n",
       "      <td>9.4</td>\n",
       "      <td>5</td>\n",
       "      <td>red</td>\n",
       "    </tr>\n",
       "    <tr>\n",
       "      <th>...</th>\n",
       "      <td>...</td>\n",
       "      <td>...</td>\n",
       "      <td>...</td>\n",
       "      <td>...</td>\n",
       "      <td>...</td>\n",
       "      <td>...</td>\n",
       "      <td>...</td>\n",
       "      <td>...</td>\n",
       "      <td>...</td>\n",
       "      <td>...</td>\n",
       "      <td>...</td>\n",
       "      <td>...</td>\n",
       "      <td>...</td>\n",
       "    </tr>\n",
       "    <tr>\n",
       "      <th>6492</th>\n",
       "      <td>6.2</td>\n",
       "      <td>0.21</td>\n",
       "      <td>0.29</td>\n",
       "      <td>1.6</td>\n",
       "      <td>0.039</td>\n",
       "      <td>24.0</td>\n",
       "      <td>92.0</td>\n",
       "      <td>0.99114</td>\n",
       "      <td>3.27</td>\n",
       "      <td>0.50</td>\n",
       "      <td>11.2</td>\n",
       "      <td>6</td>\n",
       "      <td>white</td>\n",
       "    </tr>\n",
       "    <tr>\n",
       "      <th>6493</th>\n",
       "      <td>6.6</td>\n",
       "      <td>0.32</td>\n",
       "      <td>0.36</td>\n",
       "      <td>8.0</td>\n",
       "      <td>0.047</td>\n",
       "      <td>57.0</td>\n",
       "      <td>168.0</td>\n",
       "      <td>0.99490</td>\n",
       "      <td>3.15</td>\n",
       "      <td>0.46</td>\n",
       "      <td>9.6</td>\n",
       "      <td>5</td>\n",
       "      <td>white</td>\n",
       "    </tr>\n",
       "    <tr>\n",
       "      <th>6494</th>\n",
       "      <td>6.5</td>\n",
       "      <td>0.24</td>\n",
       "      <td>0.19</td>\n",
       "      <td>1.2</td>\n",
       "      <td>0.041</td>\n",
       "      <td>30.0</td>\n",
       "      <td>111.0</td>\n",
       "      <td>0.99254</td>\n",
       "      <td>2.99</td>\n",
       "      <td>0.46</td>\n",
       "      <td>9.4</td>\n",
       "      <td>6</td>\n",
       "      <td>white</td>\n",
       "    </tr>\n",
       "    <tr>\n",
       "      <th>6495</th>\n",
       "      <td>5.5</td>\n",
       "      <td>0.29</td>\n",
       "      <td>0.30</td>\n",
       "      <td>1.1</td>\n",
       "      <td>0.022</td>\n",
       "      <td>20.0</td>\n",
       "      <td>110.0</td>\n",
       "      <td>0.98869</td>\n",
       "      <td>3.34</td>\n",
       "      <td>0.38</td>\n",
       "      <td>12.8</td>\n",
       "      <td>7</td>\n",
       "      <td>white</td>\n",
       "    </tr>\n",
       "    <tr>\n",
       "      <th>6496</th>\n",
       "      <td>6.0</td>\n",
       "      <td>0.21</td>\n",
       "      <td>0.38</td>\n",
       "      <td>0.8</td>\n",
       "      <td>0.020</td>\n",
       "      <td>22.0</td>\n",
       "      <td>98.0</td>\n",
       "      <td>0.98941</td>\n",
       "      <td>3.26</td>\n",
       "      <td>0.32</td>\n",
       "      <td>11.8</td>\n",
       "      <td>6</td>\n",
       "      <td>white</td>\n",
       "    </tr>\n",
       "  </tbody>\n",
       "</table>\n",
       "<p>6497 rows × 13 columns</p>\n",
       "</div>"
      ],
      "text/plain": [
       "      fixed acidity  volatile acidity  citric acid  residual sugar  chlorides  \\\n",
       "0               7.4              0.70         0.00             1.9      0.076   \n",
       "1               7.8              0.88         0.00             2.6      0.098   \n",
       "2               7.8              0.76         0.04             2.3      0.092   \n",
       "3              11.2              0.28         0.56             1.9      0.075   \n",
       "4               7.4              0.70         0.00             1.9      0.076   \n",
       "...             ...               ...          ...             ...        ...   \n",
       "6492            6.2              0.21         0.29             1.6      0.039   \n",
       "6493            6.6              0.32         0.36             8.0      0.047   \n",
       "6494            6.5              0.24         0.19             1.2      0.041   \n",
       "6495            5.5              0.29         0.30             1.1      0.022   \n",
       "6496            6.0              0.21         0.38             0.8      0.020   \n",
       "\n",
       "      free sulfur dioxide  total sulfur dioxide  density    pH  sulphates  \\\n",
       "0                    11.0                  34.0  0.99780  3.51       0.56   \n",
       "1                    25.0                  67.0  0.99680  3.20       0.68   \n",
       "2                    15.0                  54.0  0.99700  3.26       0.65   \n",
       "3                    17.0                  60.0  0.99800  3.16       0.58   \n",
       "4                    11.0                  34.0  0.99780  3.51       0.56   \n",
       "...                   ...                   ...      ...   ...        ...   \n",
       "6492                 24.0                  92.0  0.99114  3.27       0.50   \n",
       "6493                 57.0                 168.0  0.99490  3.15       0.46   \n",
       "6494                 30.0                 111.0  0.99254  2.99       0.46   \n",
       "6495                 20.0                 110.0  0.98869  3.34       0.38   \n",
       "6496                 22.0                  98.0  0.98941  3.26       0.32   \n",
       "\n",
       "      alcohol  quality   type  \n",
       "0         9.4        5    red  \n",
       "1         9.8        5    red  \n",
       "2         9.8        5    red  \n",
       "3         9.8        6    red  \n",
       "4         9.4        5    red  \n",
       "...       ...      ...    ...  \n",
       "6492     11.2        6  white  \n",
       "6493      9.6        5  white  \n",
       "6494      9.4        6  white  \n",
       "6495     12.8        7  white  \n",
       "6496     11.8        6  white  \n",
       "\n",
       "[6497 rows x 13 columns]"
      ]
     },
     "execution_count": 14,
     "metadata": {},
     "output_type": "execute_result"
    }
   ],
   "source": [
    "#connessione dataset wine.csv\n",
    "file= \"wine.csv\"\n",
    "dataset_path=\"../Jupyter/dati py epicode/archive/beginner_datasets/\"\n",
    "wine= pd.read_csv(filepath_or_buffer = (dataset_path+file))\n",
    "wine"
   ]
  },
  {
   "cell_type": "code",
   "execution_count": 15,
   "id": "eb42d651-77a6-4beb-96b5-30e85ae89849",
   "metadata": {
    "jupyter": {
     "source_hidden": true
    }
   },
   "outputs": [
    {
     "name": "stdout",
     "output_type": "stream",
     "text": [
      "<class 'pandas.core.frame.DataFrame'>\n",
      "RangeIndex: 6497 entries, 0 to 6496\n",
      "Data columns (total 13 columns):\n",
      " #   Column                Non-Null Count  Dtype  \n",
      "---  ------                --------------  -----  \n",
      " 0   fixed acidity         6497 non-null   float64\n",
      " 1   volatile acidity      6497 non-null   float64\n",
      " 2   citric acid           6497 non-null   float64\n",
      " 3   residual sugar        6497 non-null   float64\n",
      " 4   chlorides             6497 non-null   float64\n",
      " 5   free sulfur dioxide   6497 non-null   float64\n",
      " 6   total sulfur dioxide  6497 non-null   float64\n",
      " 7   density               6497 non-null   float64\n",
      " 8   pH                    6497 non-null   float64\n",
      " 9   sulphates             6497 non-null   float64\n",
      " 10  alcohol               6497 non-null   float64\n",
      " 11  quality               6497 non-null   int64  \n",
      " 12  type                  6497 non-null   object \n",
      "dtypes: float64(11), int64(1), object(1)\n",
      "memory usage: 660.0+ KB\n"
     ]
    }
   ],
   "source": [
    "wine.info()"
   ]
  },
  {
   "cell_type": "code",
   "execution_count": 16,
   "id": "c11bbc5c-f6d1-4a43-a76c-6f2223775ceb",
   "metadata": {
    "jupyter": {
     "source_hidden": true
    }
   },
   "outputs": [
    {
     "name": "stdout",
     "output_type": "stream",
     "text": [
      "media totale: 10.491800831149453 \n",
      "\n",
      "media per qualità:\n"
     ]
    },
    {
     "data": {
      "text/plain": [
       "quality\n",
       "3    10.215000\n",
       "4    10.180093\n",
       "5     9.837783\n",
       "6    10.587553\n",
       "7    11.386006\n",
       "8    11.678756\n",
       "9    12.180000\n",
       "Name: alcohol, dtype: float64"
      ]
     },
     "execution_count": 16,
     "metadata": {},
     "output_type": "execute_result"
    }
   ],
   "source": [
    "#media gradazione alcolica totale e per qualità\n",
    "print(\"media totale:\",wine.alcohol.mean(),\"\\n\")\n",
    "print(\"media per qualità:\")\n",
    "wine.groupby(\"quality\").mean(\"alchhol\").alcohol\n"
   ]
  },
  {
   "cell_type": "code",
   "execution_count": 17,
   "id": "a67c3d02-b5be-4a01-8776-d088c39853e1",
   "metadata": {
    "jupyter": {
     "source_hidden": true
    }
   },
   "outputs": [
    {
     "data": {
      "text/plain": [
       "type\n",
       "red      10.422983\n",
       "white    10.514267\n",
       "Name: alcohol, dtype: float64"
      ]
     },
     "execution_count": 17,
     "metadata": {},
     "output_type": "execute_result"
    }
   ],
   "source": [
    "#media lcolica pe tipologia\n",
    "wine.groupby(\"type\").mean(\"alcohol\").alcohol"
   ]
  },
  {
   "cell_type": "code",
   "execution_count": 18,
   "id": "dec35640-cd07-4dcf-95cf-7c60c18e388c",
   "metadata": {
    "jupyter": {
     "source_hidden": true
    }
   },
   "outputs": [
    {
     "name": "stdout",
     "output_type": "stream",
     "text": [
      "media totale pH: \n",
      " 3.2185008465445586 \n",
      "\n",
      "media pH per per qualità: \n",
      " quality\n",
      "3    3.257667\n",
      "4    3.231620\n",
      "5    3.212189\n",
      "6    3.217726\n",
      "7    3.228072\n",
      "8    3.223212\n",
      "9    3.308000\n",
      "Name: pH, dtype: float64 \n",
      "\n",
      "media pH per tipologia: \n",
      " type\n",
      "red      3.311113\n",
      "white    3.188267\n",
      "Name: pH, dtype: float64\n"
     ]
    }
   ],
   "source": [
    "#view su media pH totale, per qualità e tipologia\n",
    "print(\"media totale pH:\",\"\\n\",wine.pH.mean(),\"\\n\")\n",
    "print(\"media pH per per qualità:\",\"\\n\",wine.groupby(\"quality\").mean(\"pH\").pH,\"\\n\")\n",
    "print(\"media pH per tipologia:\",\"\\n\",wine.groupby(\"type\").mean(\"pH\").pH)"
   ]
  },
  {
   "cell_type": "code",
   "execution_count": 19,
   "id": "190e4286-d5a7-4aee-ae05-c649261da1f4",
   "metadata": {
    "jupyter": {
     "source_hidden": true
    }
   },
   "outputs": [
    {
     "name": "stdout",
     "output_type": "stream",
     "text": [
      "media totale solfati: \n",
      " 0.5312682776666154 \n",
      "\n",
      "media solfati per per qualità: \n",
      " quality\n",
      "3    0.506333\n",
      "4    0.505648\n",
      "5    0.526403\n",
      "6    0.532549\n",
      "7    0.547025\n",
      "8    0.512487\n",
      "9    0.466000\n",
      "Name: sulphates, dtype: float64 \n",
      "\n",
      "media solfati per tipologia: \n",
      " type\n",
      "red      0.658149\n",
      "white    0.489847\n",
      "Name: sulphates, dtype: float64\n"
     ]
    }
   ],
   "source": [
    "#view su medie solfati\n",
    "print(\"media totale solfati:\",\"\\n\",wine.sulphates.mean(),\"\\n\")\n",
    "print(\"media solfati per per qualità:\",\"\\n\",wine.groupby(\"quality\").mean(\"sulphates\").sulphates,\"\\n\")\n",
    "print(\"media solfati per tipologia:\",\"\\n\",wine.groupby(\"type\").mean(\"sulphates\").sulphates)"
   ]
  },
  {
   "cell_type": "code",
   "execution_count": null,
   "id": "6d6382bf-cb8b-432e-b426-c326ee971ba6",
   "metadata": {},
   "outputs": [],
   "source": []
  },
  {
   "cell_type": "markdown",
   "id": "27dd88eb-27b3-4683-bdf1-6142c298ffd4",
   "metadata": {},
   "source": [
    "**-BOSTON \"CSV.\" DATASET**"
   ]
  },
  {
   "cell_type": "code",
   "execution_count": 20,
   "id": "086f05ec-b35d-4fd5-a796-25bba4ad27bc",
   "metadata": {
    "jupyter": {
     "source_hidden": true
    }
   },
   "outputs": [
    {
     "data": {
      "text/html": [
       "<div>\n",
       "<style scoped>\n",
       "    .dataframe tbody tr th:only-of-type {\n",
       "        vertical-align: middle;\n",
       "    }\n",
       "\n",
       "    .dataframe tbody tr th {\n",
       "        vertical-align: top;\n",
       "    }\n",
       "\n",
       "    .dataframe thead th {\n",
       "        text-align: right;\n",
       "    }\n",
       "</style>\n",
       "<table border=\"1\" class=\"dataframe\">\n",
       "  <thead>\n",
       "    <tr style=\"text-align: right;\">\n",
       "      <th></th>\n",
       "      <th>crim</th>\n",
       "      <th>zn</th>\n",
       "      <th>indus</th>\n",
       "      <th>chas</th>\n",
       "      <th>nox</th>\n",
       "      <th>rm</th>\n",
       "      <th>age</th>\n",
       "      <th>dis</th>\n",
       "      <th>rad</th>\n",
       "      <th>tax</th>\n",
       "      <th>ptratio</th>\n",
       "      <th>black</th>\n",
       "      <th>lstat</th>\n",
       "      <th>medv</th>\n",
       "    </tr>\n",
       "  </thead>\n",
       "  <tbody>\n",
       "    <tr>\n",
       "      <th>0</th>\n",
       "      <td>0.00632</td>\n",
       "      <td>18.0</td>\n",
       "      <td>2.31</td>\n",
       "      <td>0</td>\n",
       "      <td>0.538</td>\n",
       "      <td>6.575</td>\n",
       "      <td>65.2</td>\n",
       "      <td>4.0900</td>\n",
       "      <td>1</td>\n",
       "      <td>296</td>\n",
       "      <td>15.3</td>\n",
       "      <td>396.90</td>\n",
       "      <td>4.98</td>\n",
       "      <td>24.0</td>\n",
       "    </tr>\n",
       "    <tr>\n",
       "      <th>1</th>\n",
       "      <td>0.02731</td>\n",
       "      <td>0.0</td>\n",
       "      <td>7.07</td>\n",
       "      <td>0</td>\n",
       "      <td>0.469</td>\n",
       "      <td>6.421</td>\n",
       "      <td>78.9</td>\n",
       "      <td>4.9671</td>\n",
       "      <td>2</td>\n",
       "      <td>242</td>\n",
       "      <td>17.8</td>\n",
       "      <td>396.90</td>\n",
       "      <td>9.14</td>\n",
       "      <td>21.6</td>\n",
       "    </tr>\n",
       "    <tr>\n",
       "      <th>2</th>\n",
       "      <td>0.02729</td>\n",
       "      <td>0.0</td>\n",
       "      <td>7.07</td>\n",
       "      <td>0</td>\n",
       "      <td>0.469</td>\n",
       "      <td>7.185</td>\n",
       "      <td>61.1</td>\n",
       "      <td>4.9671</td>\n",
       "      <td>2</td>\n",
       "      <td>242</td>\n",
       "      <td>17.8</td>\n",
       "      <td>392.83</td>\n",
       "      <td>4.03</td>\n",
       "      <td>34.7</td>\n",
       "    </tr>\n",
       "    <tr>\n",
       "      <th>3</th>\n",
       "      <td>0.03237</td>\n",
       "      <td>0.0</td>\n",
       "      <td>2.18</td>\n",
       "      <td>0</td>\n",
       "      <td>0.458</td>\n",
       "      <td>6.998</td>\n",
       "      <td>45.8</td>\n",
       "      <td>6.0622</td>\n",
       "      <td>3</td>\n",
       "      <td>222</td>\n",
       "      <td>18.7</td>\n",
       "      <td>394.63</td>\n",
       "      <td>2.94</td>\n",
       "      <td>33.4</td>\n",
       "    </tr>\n",
       "    <tr>\n",
       "      <th>4</th>\n",
       "      <td>0.06905</td>\n",
       "      <td>0.0</td>\n",
       "      <td>2.18</td>\n",
       "      <td>0</td>\n",
       "      <td>0.458</td>\n",
       "      <td>7.147</td>\n",
       "      <td>54.2</td>\n",
       "      <td>6.0622</td>\n",
       "      <td>3</td>\n",
       "      <td>222</td>\n",
       "      <td>18.7</td>\n",
       "      <td>396.90</td>\n",
       "      <td>5.33</td>\n",
       "      <td>36.2</td>\n",
       "    </tr>\n",
       "    <tr>\n",
       "      <th>...</th>\n",
       "      <td>...</td>\n",
       "      <td>...</td>\n",
       "      <td>...</td>\n",
       "      <td>...</td>\n",
       "      <td>...</td>\n",
       "      <td>...</td>\n",
       "      <td>...</td>\n",
       "      <td>...</td>\n",
       "      <td>...</td>\n",
       "      <td>...</td>\n",
       "      <td>...</td>\n",
       "      <td>...</td>\n",
       "      <td>...</td>\n",
       "      <td>...</td>\n",
       "    </tr>\n",
       "    <tr>\n",
       "      <th>501</th>\n",
       "      <td>0.06263</td>\n",
       "      <td>0.0</td>\n",
       "      <td>11.93</td>\n",
       "      <td>0</td>\n",
       "      <td>0.573</td>\n",
       "      <td>6.593</td>\n",
       "      <td>69.1</td>\n",
       "      <td>2.4786</td>\n",
       "      <td>1</td>\n",
       "      <td>273</td>\n",
       "      <td>21.0</td>\n",
       "      <td>391.99</td>\n",
       "      <td>9.67</td>\n",
       "      <td>22.4</td>\n",
       "    </tr>\n",
       "    <tr>\n",
       "      <th>502</th>\n",
       "      <td>0.04527</td>\n",
       "      <td>0.0</td>\n",
       "      <td>11.93</td>\n",
       "      <td>0</td>\n",
       "      <td>0.573</td>\n",
       "      <td>6.120</td>\n",
       "      <td>76.7</td>\n",
       "      <td>2.2875</td>\n",
       "      <td>1</td>\n",
       "      <td>273</td>\n",
       "      <td>21.0</td>\n",
       "      <td>396.90</td>\n",
       "      <td>9.08</td>\n",
       "      <td>20.6</td>\n",
       "    </tr>\n",
       "    <tr>\n",
       "      <th>503</th>\n",
       "      <td>0.06076</td>\n",
       "      <td>0.0</td>\n",
       "      <td>11.93</td>\n",
       "      <td>0</td>\n",
       "      <td>0.573</td>\n",
       "      <td>6.976</td>\n",
       "      <td>91.0</td>\n",
       "      <td>2.1675</td>\n",
       "      <td>1</td>\n",
       "      <td>273</td>\n",
       "      <td>21.0</td>\n",
       "      <td>396.90</td>\n",
       "      <td>5.64</td>\n",
       "      <td>23.9</td>\n",
       "    </tr>\n",
       "    <tr>\n",
       "      <th>504</th>\n",
       "      <td>0.10959</td>\n",
       "      <td>0.0</td>\n",
       "      <td>11.93</td>\n",
       "      <td>0</td>\n",
       "      <td>0.573</td>\n",
       "      <td>6.794</td>\n",
       "      <td>89.3</td>\n",
       "      <td>2.3889</td>\n",
       "      <td>1</td>\n",
       "      <td>273</td>\n",
       "      <td>21.0</td>\n",
       "      <td>393.45</td>\n",
       "      <td>6.48</td>\n",
       "      <td>22.0</td>\n",
       "    </tr>\n",
       "    <tr>\n",
       "      <th>505</th>\n",
       "      <td>0.04741</td>\n",
       "      <td>0.0</td>\n",
       "      <td>11.93</td>\n",
       "      <td>0</td>\n",
       "      <td>0.573</td>\n",
       "      <td>6.030</td>\n",
       "      <td>80.8</td>\n",
       "      <td>2.5050</td>\n",
       "      <td>1</td>\n",
       "      <td>273</td>\n",
       "      <td>21.0</td>\n",
       "      <td>396.90</td>\n",
       "      <td>7.88</td>\n",
       "      <td>11.9</td>\n",
       "    </tr>\n",
       "  </tbody>\n",
       "</table>\n",
       "<p>506 rows × 14 columns</p>\n",
       "</div>"
      ],
      "text/plain": [
       "        crim    zn  indus  chas    nox     rm   age     dis  rad  tax  \\\n",
       "0    0.00632  18.0   2.31     0  0.538  6.575  65.2  4.0900    1  296   \n",
       "1    0.02731   0.0   7.07     0  0.469  6.421  78.9  4.9671    2  242   \n",
       "2    0.02729   0.0   7.07     0  0.469  7.185  61.1  4.9671    2  242   \n",
       "3    0.03237   0.0   2.18     0  0.458  6.998  45.8  6.0622    3  222   \n",
       "4    0.06905   0.0   2.18     0  0.458  7.147  54.2  6.0622    3  222   \n",
       "..       ...   ...    ...   ...    ...    ...   ...     ...  ...  ...   \n",
       "501  0.06263   0.0  11.93     0  0.573  6.593  69.1  2.4786    1  273   \n",
       "502  0.04527   0.0  11.93     0  0.573  6.120  76.7  2.2875    1  273   \n",
       "503  0.06076   0.0  11.93     0  0.573  6.976  91.0  2.1675    1  273   \n",
       "504  0.10959   0.0  11.93     0  0.573  6.794  89.3  2.3889    1  273   \n",
       "505  0.04741   0.0  11.93     0  0.573  6.030  80.8  2.5050    1  273   \n",
       "\n",
       "     ptratio   black  lstat  medv  \n",
       "0       15.3  396.90   4.98  24.0  \n",
       "1       17.8  396.90   9.14  21.6  \n",
       "2       17.8  392.83   4.03  34.7  \n",
       "3       18.7  394.63   2.94  33.4  \n",
       "4       18.7  396.90   5.33  36.2  \n",
       "..       ...     ...    ...   ...  \n",
       "501     21.0  391.99   9.67  22.4  \n",
       "502     21.0  396.90   9.08  20.6  \n",
       "503     21.0  396.90   5.64  23.9  \n",
       "504     21.0  393.45   6.48  22.0  \n",
       "505     21.0  396.90   7.88  11.9  \n",
       "\n",
       "[506 rows x 14 columns]"
      ]
     },
     "execution_count": 20,
     "metadata": {},
     "output_type": "execute_result"
    }
   ],
   "source": [
    "file= \"boston.csv\"\n",
    "dataset_path=\"../Jupyter/dati py epicode/archive/beginner_datasets/\"\n",
    "boston= pd.read_csv(filepath_or_buffer = (dataset_path+file))\n",
    "boston"
   ]
  },
  {
   "cell_type": "code",
   "execution_count": 21,
   "id": "b79674e7-10d6-4956-b724-d48d787f4935",
   "metadata": {
    "jupyter": {
     "source_hidden": true
    }
   },
   "outputs": [
    {
     "name": "stdout",
     "output_type": "stream",
     "text": [
      "<class 'pandas.core.frame.DataFrame'>\n",
      "RangeIndex: 506 entries, 0 to 505\n",
      "Data columns (total 14 columns):\n",
      " #   Column   Non-Null Count  Dtype  \n",
      "---  ------   --------------  -----  \n",
      " 0   crim     506 non-null    float64\n",
      " 1   zn       506 non-null    float64\n",
      " 2   indus    506 non-null    float64\n",
      " 3   chas     506 non-null    int64  \n",
      " 4   nox      506 non-null    float64\n",
      " 5   rm       506 non-null    float64\n",
      " 6   age      506 non-null    float64\n",
      " 7   dis      506 non-null    float64\n",
      " 8   rad      506 non-null    int64  \n",
      " 9   tax      506 non-null    int64  \n",
      " 10  ptratio  506 non-null    float64\n",
      " 11  black    506 non-null    float64\n",
      " 12  lstat    506 non-null    float64\n",
      " 13  medv     506 non-null    float64\n",
      "dtypes: float64(11), int64(3)\n",
      "memory usage: 55.5 KB\n"
     ]
    }
   ],
   "source": [
    "#overview\n",
    "boston.info()"
   ]
  },
  {
   "cell_type": "code",
   "execution_count": 22,
   "id": "861a0225-41ea-4ed8-a65e-b4b55ef211e8",
   "metadata": {
    "jupyter": {
     "source_hidden": true
    }
   },
   "outputs": [
    {
     "data": {
      "text/html": [
       "<div>\n",
       "<style scoped>\n",
       "    .dataframe tbody tr th:only-of-type {\n",
       "        vertical-align: middle;\n",
       "    }\n",
       "\n",
       "    .dataframe tbody tr th {\n",
       "        vertical-align: top;\n",
       "    }\n",
       "\n",
       "    .dataframe thead th {\n",
       "        text-align: right;\n",
       "    }\n",
       "</style>\n",
       "<table border=\"1\" class=\"dataframe\">\n",
       "  <thead>\n",
       "    <tr style=\"text-align: right;\">\n",
       "      <th></th>\n",
       "      <th>count</th>\n",
       "      <th>mean</th>\n",
       "      <th>std</th>\n",
       "      <th>min</th>\n",
       "      <th>25%</th>\n",
       "      <th>50%</th>\n",
       "      <th>75%</th>\n",
       "      <th>max</th>\n",
       "    </tr>\n",
       "    <tr>\n",
       "      <th>chas</th>\n",
       "      <th></th>\n",
       "      <th></th>\n",
       "      <th></th>\n",
       "      <th></th>\n",
       "      <th></th>\n",
       "      <th></th>\n",
       "      <th></th>\n",
       "      <th></th>\n",
       "    </tr>\n",
       "  </thead>\n",
       "  <tbody>\n",
       "    <tr>\n",
       "      <th>0</th>\n",
       "      <td>471.0</td>\n",
       "      <td>22.093843</td>\n",
       "      <td>8.831362</td>\n",
       "      <td>5.0</td>\n",
       "      <td>16.6</td>\n",
       "      <td>20.9</td>\n",
       "      <td>24.80</td>\n",
       "      <td>50.0</td>\n",
       "    </tr>\n",
       "    <tr>\n",
       "      <th>1</th>\n",
       "      <td>35.0</td>\n",
       "      <td>28.440000</td>\n",
       "      <td>11.816643</td>\n",
       "      <td>13.4</td>\n",
       "      <td>21.1</td>\n",
       "      <td>23.3</td>\n",
       "      <td>33.15</td>\n",
       "      <td>50.0</td>\n",
       "    </tr>\n",
       "  </tbody>\n",
       "</table>\n",
       "</div>"
      ],
      "text/plain": [
       "      count       mean        std   min   25%   50%    75%   max\n",
       "chas                                                            \n",
       "0     471.0  22.093843   8.831362   5.0  16.6  20.9  24.80  50.0\n",
       "1      35.0  28.440000  11.816643  13.4  21.1  23.3  33.15  50.0"
      ]
     },
     "execution_count": 22,
     "metadata": {},
     "output_type": "execute_result"
    }
   ],
   "source": [
    "#confronto costo mdio case sul fiume e non\n",
    "bos_riv=boston.groupby(\"chas\")\n",
    "bos_riv.medv.describe()"
   ]
  },
  {
   "cell_type": "code",
   "execution_count": 23,
   "id": "7a8562cc-5cea-4fae-8904-17a98e1cbd03",
   "metadata": {
    "jupyter": {
     "source_hidden": true
    }
   },
   "outputs": [
    {
     "data": {
      "text/plain": [
       "<Axes: xlabel='crim'>"
      ]
     },
     "execution_count": 23,
     "metadata": {},
     "output_type": "execute_result"
    },
    {
     "data": {
      "image/png": "[encoded data removed]",
      "text/plain": [
       "<Figure size 640x480 with 1 Axes>"
      ]
     },
     "metadata": {},
     "output_type": "display_data"
    }
   ],
   "source": [
    "#valore delle case distribuito sul tasso di criminaltà\n",
    "\n",
    "crim_value=boston.groupby(\"crim\").sum(\"medv\").medv\n",
    "crim_value.plot()"
   ]
  },
  {
   "cell_type": "code",
   "execution_count": 24,
   "id": "7c9f3436-1592-474a-86c2-faf83204fff7",
   "metadata": {
    "jupyter": {
     "source_hidden": true
    }
   },
   "outputs": [
    {
     "data": {
      "text/plain": [
       "<Axes: xlabel='ptratio'>"
      ]
     },
     "execution_count": 24,
     "metadata": {},
     "output_type": "execute_result"
    },
    {
     "data": {
      "image/png": "[encoded data removed]",
      "text/plain": [
       "<Figure size 640x480 with 1 Axes>"
      ]
     },
     "metadata": {},
     "output_type": "display_data"
    }
   ],
   "source": [
    "#media num.stanze e valore case in rapporto agli alunni/insegnati per città\n",
    "alins =boston.groupby([\"ptratio\"])[[\"rm\",\"medv\"]].mean()\n",
    "alins.plot()\n"
   ]
  },
  {
   "cell_type": "code",
   "execution_count": 25,
   "id": "f4e14901-a485-42cc-bef0-c0fb06196599",
   "metadata": {
    "jupyter": {
     "source_hidden": true
    }
   },
   "outputs": [
    {
     "name": "stdout",
     "output_type": "stream",
     "text": [
      "age: \n",
      " rad\n",
      "1     45.025000\n",
      "2     64.770833\n",
      "3     49.310526\n",
      "4     60.841818\n",
      "5     69.223478\n",
      "6     60.142308\n",
      "7     40.141176\n",
      "8     67.350000\n",
      "24    89.805303\n",
      "Name: age, dtype: float64 \n",
      "\n",
      "rm: \n",
      " rad\n",
      "1     6.555850\n",
      "2     6.649958\n",
      "3     6.473026\n",
      "4     6.133118\n",
      "5     6.393157\n",
      "6     6.104731\n",
      "7     6.647765\n",
      "8     6.950792\n",
      "24    6.022152\n",
      "Name: rm, dtype: float64 \n",
      "\n",
      "tax: \n",
      " rad\n",
      "1     291.450000\n",
      "2     260.666667\n",
      "3     246.078947\n",
      "4     335.981818\n",
      "5     331.843478\n",
      "6     372.884615\n",
      "7     304.411765\n",
      "8     301.250000\n",
      "24    666.000000\n",
      "Name: tax, dtype: float64 \n",
      "\n"
     ]
    }
   ],
   "source": [
    "#età abitazioni, numero stanze e tasse pagate in relazione alla distanza dall'autostrada\n",
    "bos_rad=boston.groupby(\"rad\")\n",
    "print(\"age:\",\"\\n\",bos_rad.age.mean(),\"\\n\")\n",
    "print(\"rm:\",\"\\n\",bos_rad.rm.mean(),\"\\n\")\n",
    "print(\"tax:\",\"\\n\",bos_rad.tax.mean(),\"\\n\")"
   ]
  },
  {
   "cell_type": "code",
   "execution_count": null,
   "id": "b44f74c7-1ec3-4af3-b2b6-3d6d977d54c6",
   "metadata": {},
   "outputs": [],
   "source": []
  },
  {
   "cell_type": "markdown",
   "id": "f35b8c6b-c76b-429f-9df0-e9c7748c691e",
   "metadata": {},
   "source": [
    "**DataFrame**"
   ]
  },
  {
   "cell_type": "code",
   "execution_count": 26,
   "id": "bcf39425-3da0-47cf-9b6d-1df1c87c68bb",
   "metadata": {
    "jupyter": {
     "source_hidden": true
    }
   },
   "outputs": [],
   "source": [
    "#creazione di due DataFrame\n",
    "employees_df = pd.DataFrame({ 'employee_id': [101, 102, 103, 104, 105],\n",
    "                             'name': ['Alice', 'Bob', 'Charlie', 'David', 'Emma'],\n",
    "                             'department_id': [1, 2, 1, 2, 3] })\n",
    "\n",
    "departments_df = pd.DataFrame({ 'department_id': [1, 2, 3],\n",
    "                               'department_name': ['HR', 'IT', 'Finance'],\n",
    "                               'location': ['New York','San Francisco', 'Chicago'] })"
   ]
  },
  {
   "cell_type": "code",
   "execution_count": 27,
   "id": "8fa16457-2ddf-43cf-b434-5043cbf56730",
   "metadata": {
    "jupyter": {
     "source_hidden": true
    }
   },
   "outputs": [
    {
     "data": {
      "text/html": [
       "<div>\n",
       "<style scoped>\n",
       "    .dataframe tbody tr th:only-of-type {\n",
       "        vertical-align: middle;\n",
       "    }\n",
       "\n",
       "    .dataframe tbody tr th {\n",
       "        vertical-align: top;\n",
       "    }\n",
       "\n",
       "    .dataframe thead th {\n",
       "        text-align: right;\n",
       "    }\n",
       "</style>\n",
       "<table border=\"1\" class=\"dataframe\">\n",
       "  <thead>\n",
       "    <tr style=\"text-align: right;\">\n",
       "      <th></th>\n",
       "      <th>employee_id</th>\n",
       "      <th>name</th>\n",
       "      <th>department_id</th>\n",
       "      <th>department_name</th>\n",
       "      <th>location</th>\n",
       "    </tr>\n",
       "  </thead>\n",
       "  <tbody>\n",
       "    <tr>\n",
       "      <th>0</th>\n",
       "      <td>101</td>\n",
       "      <td>Alice</td>\n",
       "      <td>1</td>\n",
       "      <td>HR</td>\n",
       "      <td>New York</td>\n",
       "    </tr>\n",
       "    <tr>\n",
       "      <th>1</th>\n",
       "      <td>103</td>\n",
       "      <td>Charlie</td>\n",
       "      <td>1</td>\n",
       "      <td>HR</td>\n",
       "      <td>New York</td>\n",
       "    </tr>\n",
       "    <tr>\n",
       "      <th>2</th>\n",
       "      <td>102</td>\n",
       "      <td>Bob</td>\n",
       "      <td>2</td>\n",
       "      <td>IT</td>\n",
       "      <td>San Francisco</td>\n",
       "    </tr>\n",
       "    <tr>\n",
       "      <th>3</th>\n",
       "      <td>104</td>\n",
       "      <td>David</td>\n",
       "      <td>2</td>\n",
       "      <td>IT</td>\n",
       "      <td>San Francisco</td>\n",
       "    </tr>\n",
       "    <tr>\n",
       "      <th>4</th>\n",
       "      <td>105</td>\n",
       "      <td>Emma</td>\n",
       "      <td>3</td>\n",
       "      <td>Finance</td>\n",
       "      <td>Chicago</td>\n",
       "    </tr>\n",
       "  </tbody>\n",
       "</table>\n",
       "</div>"
      ],
      "text/plain": [
       "   employee_id     name  department_id department_name       location\n",
       "0          101    Alice              1              HR       New York\n",
       "1          103  Charlie              1              HR       New York\n",
       "2          102      Bob              2              IT  San Francisco\n",
       "3          104    David              2              IT  San Francisco\n",
       "4          105     Emma              3         Finance        Chicago"
      ]
     },
     "execution_count": 27,
     "metadata": {},
     "output_type": "execute_result"
    }
   ],
   "source": [
    "#unione dei due df tramite .merge()\n",
    "employees_df.merge(departments_df,on=\"department_id\")"
   ]
  },
  {
   "cell_type": "code",
   "execution_count": 28,
   "id": "d7553acd-b19b-45b0-95bd-6e72e4e3faa6",
   "metadata": {
    "jupyter": {
     "source_hidden": true
    }
   },
   "outputs": [],
   "source": [
    "#set department_id come indice per entrambi i df\n",
    "employees_df.set_index(\"department_id\", inplace=True)\n"
   ]
  },
  {
   "cell_type": "code",
   "execution_count": 29,
   "id": "2097b3ad-b01d-4415-b780-a6f69d17af17",
   "metadata": {
    "jupyter": {
     "source_hidden": true
    }
   },
   "outputs": [
    {
     "data": {
      "text/html": [
       "<div>\n",
       "<style scoped>\n",
       "    .dataframe tbody tr th:only-of-type {\n",
       "        vertical-align: middle;\n",
       "    }\n",
       "\n",
       "    .dataframe tbody tr th {\n",
       "        vertical-align: top;\n",
       "    }\n",
       "\n",
       "    .dataframe thead th {\n",
       "        text-align: right;\n",
       "    }\n",
       "</style>\n",
       "<table border=\"1\" class=\"dataframe\">\n",
       "  <thead>\n",
       "    <tr style=\"text-align: right;\">\n",
       "      <th></th>\n",
       "      <th>employee_id</th>\n",
       "      <th>name</th>\n",
       "    </tr>\n",
       "    <tr>\n",
       "      <th>department_id</th>\n",
       "      <th></th>\n",
       "      <th></th>\n",
       "    </tr>\n",
       "  </thead>\n",
       "  <tbody>\n",
       "    <tr>\n",
       "      <th>1</th>\n",
       "      <td>101</td>\n",
       "      <td>Alice</td>\n",
       "    </tr>\n",
       "    <tr>\n",
       "      <th>2</th>\n",
       "      <td>102</td>\n",
       "      <td>Bob</td>\n",
       "    </tr>\n",
       "    <tr>\n",
       "      <th>1</th>\n",
       "      <td>103</td>\n",
       "      <td>Charlie</td>\n",
       "    </tr>\n",
       "    <tr>\n",
       "      <th>2</th>\n",
       "      <td>104</td>\n",
       "      <td>David</td>\n",
       "    </tr>\n",
       "    <tr>\n",
       "      <th>3</th>\n",
       "      <td>105</td>\n",
       "      <td>Emma</td>\n",
       "    </tr>\n",
       "  </tbody>\n",
       "</table>\n",
       "</div>"
      ],
      "text/plain": [
       "               employee_id     name\n",
       "department_id                      \n",
       "1                      101    Alice\n",
       "2                      102      Bob\n",
       "1                      103  Charlie\n",
       "2                      104    David\n",
       "3                      105     Emma"
      ]
     },
     "execution_count": 29,
     "metadata": {},
     "output_type": "execute_result"
    }
   ],
   "source": [
    "employees_df"
   ]
  },
  {
   "cell_type": "code",
   "execution_count": 30,
   "id": "47310715-c916-49fa-bf94-211ede124fcc",
   "metadata": {
    "jupyter": {
     "source_hidden": true
    }
   },
   "outputs": [],
   "source": [
    "\n",
    "departments_df.set_index(\"department_id\", inplace=True)"
   ]
  },
  {
   "cell_type": "code",
   "execution_count": 31,
   "id": "676c3cb8-6095-442a-bedd-859d6f74c3f0",
   "metadata": {
    "jupyter": {
     "source_hidden": true
    }
   },
   "outputs": [
    {
     "data": {
      "text/html": [
       "<div>\n",
       "<style scoped>\n",
       "    .dataframe tbody tr th:only-of-type {\n",
       "        vertical-align: middle;\n",
       "    }\n",
       "\n",
       "    .dataframe tbody tr th {\n",
       "        vertical-align: top;\n",
       "    }\n",
       "\n",
       "    .dataframe thead th {\n",
       "        text-align: right;\n",
       "    }\n",
       "</style>\n",
       "<table border=\"1\" class=\"dataframe\">\n",
       "  <thead>\n",
       "    <tr style=\"text-align: right;\">\n",
       "      <th></th>\n",
       "      <th>department_name</th>\n",
       "      <th>location</th>\n",
       "    </tr>\n",
       "    <tr>\n",
       "      <th>department_id</th>\n",
       "      <th></th>\n",
       "      <th></th>\n",
       "    </tr>\n",
       "  </thead>\n",
       "  <tbody>\n",
       "    <tr>\n",
       "      <th>1</th>\n",
       "      <td>HR</td>\n",
       "      <td>New York</td>\n",
       "    </tr>\n",
       "    <tr>\n",
       "      <th>2</th>\n",
       "      <td>IT</td>\n",
       "      <td>San Francisco</td>\n",
       "    </tr>\n",
       "    <tr>\n",
       "      <th>3</th>\n",
       "      <td>Finance</td>\n",
       "      <td>Chicago</td>\n",
       "    </tr>\n",
       "  </tbody>\n",
       "</table>\n",
       "</div>"
      ],
      "text/plain": [
       "              department_name       location\n",
       "department_id                               \n",
       "1                          HR       New York\n",
       "2                          IT  San Francisco\n",
       "3                     Finance        Chicago"
      ]
     },
     "execution_count": 31,
     "metadata": {},
     "output_type": "execute_result"
    }
   ],
   "source": [
    "departments_df"
   ]
  },
  {
   "cell_type": "code",
   "execution_count": 32,
   "id": "a0f4e13b-d8d1-4e35-8d3d-efd065382b39",
   "metadata": {
    "jupyter": {
     "source_hidden": true
    }
   },
   "outputs": [
    {
     "data": {
      "text/html": [
       "<div>\n",
       "<style scoped>\n",
       "    .dataframe tbody tr th:only-of-type {\n",
       "        vertical-align: middle;\n",
       "    }\n",
       "\n",
       "    .dataframe tbody tr th {\n",
       "        vertical-align: top;\n",
       "    }\n",
       "\n",
       "    .dataframe thead th {\n",
       "        text-align: right;\n",
       "    }\n",
       "</style>\n",
       "<table border=\"1\" class=\"dataframe\">\n",
       "  <thead>\n",
       "    <tr style=\"text-align: right;\">\n",
       "      <th></th>\n",
       "      <th>department_name</th>\n",
       "      <th>location</th>\n",
       "      <th>employee_id</th>\n",
       "      <th>name</th>\n",
       "    </tr>\n",
       "    <tr>\n",
       "      <th>department_id</th>\n",
       "      <th></th>\n",
       "      <th></th>\n",
       "      <th></th>\n",
       "      <th></th>\n",
       "    </tr>\n",
       "  </thead>\n",
       "  <tbody>\n",
       "    <tr>\n",
       "      <th>1</th>\n",
       "      <td>HR</td>\n",
       "      <td>New York</td>\n",
       "      <td>101</td>\n",
       "      <td>Alice</td>\n",
       "    </tr>\n",
       "    <tr>\n",
       "      <th>1</th>\n",
       "      <td>HR</td>\n",
       "      <td>New York</td>\n",
       "      <td>103</td>\n",
       "      <td>Charlie</td>\n",
       "    </tr>\n",
       "    <tr>\n",
       "      <th>2</th>\n",
       "      <td>IT</td>\n",
       "      <td>San Francisco</td>\n",
       "      <td>102</td>\n",
       "      <td>Bob</td>\n",
       "    </tr>\n",
       "    <tr>\n",
       "      <th>2</th>\n",
       "      <td>IT</td>\n",
       "      <td>San Francisco</td>\n",
       "      <td>104</td>\n",
       "      <td>David</td>\n",
       "    </tr>\n",
       "    <tr>\n",
       "      <th>3</th>\n",
       "      <td>Finance</td>\n",
       "      <td>Chicago</td>\n",
       "      <td>105</td>\n",
       "      <td>Emma</td>\n",
       "    </tr>\n",
       "  </tbody>\n",
       "</table>\n",
       "</div>"
      ],
      "text/plain": [
       "              department_name       location  employee_id     name\n",
       "department_id                                                     \n",
       "1                          HR       New York          101    Alice\n",
       "1                          HR       New York          103  Charlie\n",
       "2                          IT  San Francisco          102      Bob\n",
       "2                          IT  San Francisco          104    David\n",
       "3                     Finance        Chicago          105     Emma"
      ]
     },
     "execution_count": 32,
     "metadata": {},
     "output_type": "execute_result"
    }
   ],
   "source": [
    "#unione dei df tramite .join()\n",
    "departments_df.join(employees_df)"
   ]
  },
  {
   "cell_type": "code",
   "execution_count": null,
   "id": "8461d1f5-3d2c-421f-ba13-b35a5cd3aa3b",
   "metadata": {},
   "outputs": [],
   "source": []
  },
  {
   "cell_type": "markdown",
   "id": "996272b7-9e59-4cb0-8821-6bfcf046e864",
   "metadata": {},
   "source": [
    "**AdventureWorksDW database**"
   ]
  },
  {
   "cell_type": "code",
   "execution_count": 33,
   "id": "78121384-a23b-4f67-b006-2fbf72942d81",
   "metadata": {
    "jupyter": {
     "source_hidden": true
    }
   },
   "outputs": [
    {
     "data": {
      "text/plain": [
       "Index(['EmployeeKey', 'ParentEmployeeKey', 'EmployeeNationalIDAlternateKey',\n",
       "       'ParentEmployeeNationalIDAlternateKey', 'FirstName', 'LastName',\n",
       "       'MiddleName', 'NameStyle', 'Title', 'HireDate', 'BirthDate', 'LoginID',\n",
       "       'EmailAddress', 'Phone', 'MaritalStatus', 'EmergencyContactName',\n",
       "       'EmergencyContactPhone', 'SalariedFlag', 'Gender', 'PayFrequency',\n",
       "       'BaseRate', 'VacationHours', 'SickLeaveHours', 'CurrentFlag',\n",
       "       'SalesPersonFlag', 'DepartmentName', 'EmployeePhoto', 'Position'],\n",
       "      dtype='object')"
      ]
     },
     "execution_count": 33,
     "metadata": {},
     "output_type": "execute_result"
    }
   ],
   "source": [
    " #connsessione al Database\n",
    "import pymysql                                 \n",
    "import sqlalchemy\n",
    "import dotenv\n",
    "import os\n",
    "import pandas as pd\n",
    "\n",
    "from sqlalchemy import create_engine, text\n",
    "\n",
    "dotenv.load_dotenv(dotenv_path=\"../Jupyter/.env\",override=True)\n",
    "\n",
    "username = os.getenv('username')\n",
    "password = os.getenv('password')\n",
    "host = os.getenv('host')\n",
    "dbname = os.getenv('dbname')\n",
    "\n",
    "conn_string = \"mysql+pymysql://\" + username + \":\" + password + \"@\" + host + \"/\" + dbname\n",
    "\n",
    "db_engine =  sqlalchemy.create_engine(conn_string)\n",
    "\n",
    "query = \"\"\"SELECT *\n",
    "           FROM dimemployee\"\"\"\n",
    "\n",
    "d_emp = pd.read_sql(sqlalchemy.text(query), db_engine.connect())\n",
    "d_emp.columns"
   ]
  },
  {
   "cell_type": "code",
   "execution_count": 34,
   "id": "16f32711-f3f3-4f49-bcd7-2210ad630f93",
   "metadata": {
    "jupyter": {
     "source_hidden": true
    },
    "scrolled": true
   },
   "outputs": [
    {
     "data": {
      "text/plain": [
       "Index(['EmployeeKey', 'SalesTerritoryKey'], dtype='object')"
      ]
     },
     "execution_count": 34,
     "metadata": {},
     "output_type": "execute_result"
    }
   ],
   "source": [
    "query = \"\"\"SELECT *\n",
    "           FROM dimemployeesalesterritory\"\"\"\n",
    "\n",
    "d_est = pd.read_sql(sqlalchemy.text(query), db_engine.connect())\n",
    "d_est.columns"
   ]
  },
  {
   "cell_type": "code",
   "execution_count": 35,
   "id": "227e44f3-4df4-4e4c-8ff5-339addc6c202",
   "metadata": {
    "scrolled": true
   },
   "outputs": [
    {
     "data": {
      "text/html": [
       "<div>\n",
       "<style scoped>\n",
       "    .dataframe tbody tr th:only-of-type {\n",
       "        vertical-align: middle;\n",
       "    }\n",
       "\n",
       "    .dataframe tbody tr th {\n",
       "        vertical-align: top;\n",
       "    }\n",
       "\n",
       "    .dataframe thead th {\n",
       "        text-align: right;\n",
       "    }\n",
       "</style>\n",
       "<table border=\"1\" class=\"dataframe\">\n",
       "  <thead>\n",
       "    <tr style=\"text-align: right;\">\n",
       "      <th></th>\n",
       "      <th>ParentEmployeeKey</th>\n",
       "      <th>EmployeeNationalIDAlternateKey</th>\n",
       "      <th>ParentEmployeeNationalIDAlternateKey</th>\n",
       "      <th>FirstName</th>\n",
       "      <th>LastName</th>\n",
       "      <th>MiddleName</th>\n",
       "      <th>NameStyle</th>\n",
       "      <th>Title</th>\n",
       "      <th>HireDate</th>\n",
       "      <th>BirthDate</th>\n",
       "      <th>...</th>\n",
       "      <th>BaseRate</th>\n",
       "      <th>VacationHours</th>\n",
       "      <th>SickLeaveHours</th>\n",
       "      <th>CurrentFlag</th>\n",
       "      <th>SalesPersonFlag</th>\n",
       "      <th>DepartmentName</th>\n",
       "      <th>EmployeePhoto</th>\n",
       "      <th>Position</th>\n",
       "      <th>EmployeeKey</th>\n",
       "      <th>SalesTerritoryKey</th>\n",
       "    </tr>\n",
       "    <tr>\n",
       "      <th>EmployeeKey</th>\n",
       "      <th></th>\n",
       "      <th></th>\n",
       "      <th></th>\n",
       "      <th></th>\n",
       "      <th></th>\n",
       "      <th></th>\n",
       "      <th></th>\n",
       "      <th></th>\n",
       "      <th></th>\n",
       "      <th></th>\n",
       "      <th></th>\n",
       "      <th></th>\n",
       "      <th></th>\n",
       "      <th></th>\n",
       "      <th></th>\n",
       "      <th></th>\n",
       "      <th></th>\n",
       "      <th></th>\n",
       "      <th></th>\n",
       "      <th></th>\n",
       "      <th></th>\n",
       "    </tr>\n",
       "  </thead>\n",
       "  <tbody>\n",
       "    <tr>\n",
       "      <th>1</th>\n",
       "      <td>18.0</td>\n",
       "      <td>14417807</td>\n",
       "      <td>446466105.0</td>\n",
       "      <td>Guy</td>\n",
       "      <td>Gilbert</td>\n",
       "      <td>R</td>\n",
       "      <td>0</td>\n",
       "      <td>Production Technician - WC60</td>\n",
       "      <td>2006-01-28</td>\n",
       "      <td>1981-11-12</td>\n",
       "      <td>...</td>\n",
       "      <td>12.4500</td>\n",
       "      <td>21</td>\n",
       "      <td>30</td>\n",
       "      <td>1</td>\n",
       "      <td>0</td>\n",
       "      <td>Production</td>\n",
       "      <td>b'\\xff\\xd8\\xff\\xe0\\x00\\x10JFIF\\x00\\x01\\x01\\x01...</td>\n",
       "      <td>None</td>\n",
       "      <td>277.0</td>\n",
       "      <td>1.0</td>\n",
       "    </tr>\n",
       "    <tr>\n",
       "      <th>2</th>\n",
       "      <td>7.0</td>\n",
       "      <td>253022876</td>\n",
       "      <td>24756624.0</td>\n",
       "      <td>Kevin</td>\n",
       "      <td>Brown</td>\n",
       "      <td>F</td>\n",
       "      <td>0</td>\n",
       "      <td>Marketing Assistant</td>\n",
       "      <td>2006-08-26</td>\n",
       "      <td>1986-12-01</td>\n",
       "      <td>...</td>\n",
       "      <td>13.4615</td>\n",
       "      <td>42</td>\n",
       "      <td>41</td>\n",
       "      <td>1</td>\n",
       "      <td>0</td>\n",
       "      <td>Marketing</td>\n",
       "      <td>b'\\xff\\xd8\\xff\\xe0\\x00\\x10JFIF\\x00\\x01\\x01\\x01...</td>\n",
       "      <td>None</td>\n",
       "      <td>286.0</td>\n",
       "      <td>1.0</td>\n",
       "    </tr>\n",
       "    <tr>\n",
       "      <th>3</th>\n",
       "      <td>14.0</td>\n",
       "      <td>509647174</td>\n",
       "      <td>245797967.0</td>\n",
       "      <td>Roberto</td>\n",
       "      <td>Tamburello</td>\n",
       "      <td>None</td>\n",
       "      <td>0</td>\n",
       "      <td>Engineering Manager</td>\n",
       "      <td>2007-06-11</td>\n",
       "      <td>1974-06-12</td>\n",
       "      <td>...</td>\n",
       "      <td>43.2692</td>\n",
       "      <td>2</td>\n",
       "      <td>21</td>\n",
       "      <td>1</td>\n",
       "      <td>0</td>\n",
       "      <td>Engineering</td>\n",
       "      <td>b'\\xff\\xd8\\xff\\xe0\\x00\\x10JFIF\\x00\\x01\\x01\\x01...</td>\n",
       "      <td>None</td>\n",
       "      <td>289.0</td>\n",
       "      <td>1.0</td>\n",
       "    </tr>\n",
       "    <tr>\n",
       "      <th>4</th>\n",
       "      <td>3.0</td>\n",
       "      <td>112457891</td>\n",
       "      <td>509647174.0</td>\n",
       "      <td>Rob</td>\n",
       "      <td>Walters</td>\n",
       "      <td>None</td>\n",
       "      <td>0</td>\n",
       "      <td>Senior Tool Designer</td>\n",
       "      <td>2007-07-05</td>\n",
       "      <td>1974-07-23</td>\n",
       "      <td>...</td>\n",
       "      <td>29.8462</td>\n",
       "      <td>48</td>\n",
       "      <td>80</td>\n",
       "      <td>1</td>\n",
       "      <td>0</td>\n",
       "      <td>Tool Design</td>\n",
       "      <td>b'\\xff\\xd8\\xff\\xe0\\x00\\x10JFIF\\x00\\x01\\x01\\x01...</td>\n",
       "      <td>None</td>\n",
       "      <td>293.0</td>\n",
       "      <td>1.0</td>\n",
       "    </tr>\n",
       "    <tr>\n",
       "      <th>5</th>\n",
       "      <td>3.0</td>\n",
       "      <td>112457891</td>\n",
       "      <td>509647174.0</td>\n",
       "      <td>Rob</td>\n",
       "      <td>Walters</td>\n",
       "      <td>None</td>\n",
       "      <td>0</td>\n",
       "      <td>Senior Tool Designer</td>\n",
       "      <td>2007-07-05</td>\n",
       "      <td>1974-07-23</td>\n",
       "      <td>...</td>\n",
       "      <td>29.8462</td>\n",
       "      <td>48</td>\n",
       "      <td>80</td>\n",
       "      <td>1</td>\n",
       "      <td>0</td>\n",
       "      <td>Tool Design</td>\n",
       "      <td>b'\\xff\\xd8\\xff\\xe0\\x00\\x10JFIF\\x00\\x01\\x01\\x01...</td>\n",
       "      <td>None</td>\n",
       "      <td>272.0</td>\n",
       "      <td>2.0</td>\n",
       "    </tr>\n",
       "    <tr>\n",
       "      <th>...</th>\n",
       "      <td>...</td>\n",
       "      <td>...</td>\n",
       "      <td>...</td>\n",
       "      <td>...</td>\n",
       "      <td>...</td>\n",
       "      <td>...</td>\n",
       "      <td>...</td>\n",
       "      <td>...</td>\n",
       "      <td>...</td>\n",
       "      <td>...</td>\n",
       "      <td>...</td>\n",
       "      <td>...</td>\n",
       "      <td>...</td>\n",
       "      <td>...</td>\n",
       "      <td>...</td>\n",
       "      <td>...</td>\n",
       "      <td>...</td>\n",
       "      <td>...</td>\n",
       "      <td>...</td>\n",
       "      <td>...</td>\n",
       "      <td>...</td>\n",
       "    </tr>\n",
       "    <tr>\n",
       "      <th>292</th>\n",
       "      <td>290.0</td>\n",
       "      <td>134219713</td>\n",
       "      <td>982310417.0</td>\n",
       "      <td>Ranjit</td>\n",
       "      <td>Varkey Chudukatil</td>\n",
       "      <td>R</td>\n",
       "      <td>0</td>\n",
       "      <td>Sales Representative</td>\n",
       "      <td>2011-12-29</td>\n",
       "      <td>1975-04-30</td>\n",
       "      <td>...</td>\n",
       "      <td>23.0769</td>\n",
       "      <td>34</td>\n",
       "      <td>37</td>\n",
       "      <td>1</td>\n",
       "      <td>1</td>\n",
       "      <td>Sales</td>\n",
       "      <td>b'\\xff\\xd8\\xff\\xe0\\x00\\x10JFIF\\x00\\x01\\x01\\x01...</td>\n",
       "      <td>Sales Representative</td>\n",
       "      <td>NaN</td>\n",
       "      <td>NaN</td>\n",
       "    </tr>\n",
       "    <tr>\n",
       "      <th>293</th>\n",
       "      <td>272.0</td>\n",
       "      <td>90836195</td>\n",
       "      <td>502097814.0</td>\n",
       "      <td>Tete</td>\n",
       "      <td>Mensa-Annan</td>\n",
       "      <td>A</td>\n",
       "      <td>0</td>\n",
       "      <td>Sales Representative</td>\n",
       "      <td>2012-04-30</td>\n",
       "      <td>1977-08-05</td>\n",
       "      <td>...</td>\n",
       "      <td>23.0769</td>\n",
       "      <td>39</td>\n",
       "      <td>39</td>\n",
       "      <td>1</td>\n",
       "      <td>1</td>\n",
       "      <td>Sales</td>\n",
       "      <td>b'\\xff\\xd8\\xff\\xe0\\x00\\x10JFIF\\x00\\x01\\x01\\x01...</td>\n",
       "      <td>Sales Representative</td>\n",
       "      <td>NaN</td>\n",
       "      <td>NaN</td>\n",
       "    </tr>\n",
       "    <tr>\n",
       "      <th>294</th>\n",
       "      <td>277.0</td>\n",
       "      <td>481044938</td>\n",
       "      <td>112432117.0</td>\n",
       "      <td>Syed</td>\n",
       "      <td>Abbas</td>\n",
       "      <td>E</td>\n",
       "      <td>0</td>\n",
       "      <td>Pacific Sales Manager</td>\n",
       "      <td>2012-10-12</td>\n",
       "      <td>1974-08-11</td>\n",
       "      <td>...</td>\n",
       "      <td>48.1010</td>\n",
       "      <td>20</td>\n",
       "      <td>30</td>\n",
       "      <td>1</td>\n",
       "      <td>1</td>\n",
       "      <td>Sales</td>\n",
       "      <td>b'\\xff\\xd8\\xff\\xe0\\x00\\x10JFIF\\x00\\x01\\x01\\x01...</td>\n",
       "      <td>Sales Manager</td>\n",
       "      <td>NaN</td>\n",
       "      <td>NaN</td>\n",
       "    </tr>\n",
       "    <tr>\n",
       "      <th>295</th>\n",
       "      <td>290.0</td>\n",
       "      <td>954276278</td>\n",
       "      <td>982310417.0</td>\n",
       "      <td>Rachel</td>\n",
       "      <td>Valdez</td>\n",
       "      <td>B</td>\n",
       "      <td>0</td>\n",
       "      <td>Sales Representative</td>\n",
       "      <td>2012-12-28</td>\n",
       "      <td>1975-02-06</td>\n",
       "      <td>...</td>\n",
       "      <td>23.0769</td>\n",
       "      <td>35</td>\n",
       "      <td>37</td>\n",
       "      <td>1</td>\n",
       "      <td>1</td>\n",
       "      <td>Sales</td>\n",
       "      <td>b'\\xff\\xd8\\xff\\xe0\\x00\\x10JFIF\\x00\\x01\\x01\\x01...</td>\n",
       "      <td>Sales Representative</td>\n",
       "      <td>NaN</td>\n",
       "      <td>NaN</td>\n",
       "    </tr>\n",
       "    <tr>\n",
       "      <th>296</th>\n",
       "      <td>294.0</td>\n",
       "      <td>758596752</td>\n",
       "      <td>481044938.0</td>\n",
       "      <td>Lynn</td>\n",
       "      <td>Tsoflias</td>\n",
       "      <td>N</td>\n",
       "      <td>0</td>\n",
       "      <td>Sales Representative</td>\n",
       "      <td>2012-12-28</td>\n",
       "      <td>1970-10-16</td>\n",
       "      <td>...</td>\n",
       "      <td>23.0769</td>\n",
       "      <td>36</td>\n",
       "      <td>38</td>\n",
       "      <td>1</td>\n",
       "      <td>1</td>\n",
       "      <td>Sales</td>\n",
       "      <td>b'\\x89PNG\\r\\n\\x1a\\n\\x00\\x00\\x00\\rIHDR\\x00\\x00\\...</td>\n",
       "      <td>Sales Representative</td>\n",
       "      <td>NaN</td>\n",
       "      <td>NaN</td>\n",
       "    </tr>\n",
       "  </tbody>\n",
       "</table>\n",
       "<p>296 rows × 29 columns</p>\n",
       "</div>"
      ],
      "text/plain": [
       "             ParentEmployeeKey  EmployeeNationalIDAlternateKey  \\\n",
       "EmployeeKey                                                      \n",
       "1                         18.0                        14417807   \n",
       "2                          7.0                       253022876   \n",
       "3                         14.0                       509647174   \n",
       "4                          3.0                       112457891   \n",
       "5                          3.0                       112457891   \n",
       "...                        ...                             ...   \n",
       "292                      290.0                       134219713   \n",
       "293                      272.0                        90836195   \n",
       "294                      277.0                       481044938   \n",
       "295                      290.0                       954276278   \n",
       "296                      294.0                       758596752   \n",
       "\n",
       "             ParentEmployeeNationalIDAlternateKey FirstName  \\\n",
       "EmployeeKey                                                   \n",
       "1                                     446466105.0       Guy   \n",
       "2                                      24756624.0     Kevin   \n",
       "3                                     245797967.0   Roberto   \n",
       "4                                     509647174.0       Rob   \n",
       "5                                     509647174.0       Rob   \n",
       "...                                           ...       ...   \n",
       "292                                   982310417.0    Ranjit   \n",
       "293                                   502097814.0      Tete   \n",
       "294                                   112432117.0      Syed   \n",
       "295                                   982310417.0    Rachel   \n",
       "296                                   481044938.0      Lynn   \n",
       "\n",
       "                      LastName MiddleName  NameStyle  \\\n",
       "EmployeeKey                                            \n",
       "1                      Gilbert          R          0   \n",
       "2                        Brown          F          0   \n",
       "3                   Tamburello       None          0   \n",
       "4                      Walters       None          0   \n",
       "5                      Walters       None          0   \n",
       "...                        ...        ...        ...   \n",
       "292          Varkey Chudukatil          R          0   \n",
       "293                Mensa-Annan          A          0   \n",
       "294                      Abbas          E          0   \n",
       "295                     Valdez          B          0   \n",
       "296                   Tsoflias          N          0   \n",
       "\n",
       "                                    Title    HireDate   BirthDate  ...  \\\n",
       "EmployeeKey                                                        ...   \n",
       "1            Production Technician - WC60  2006-01-28  1981-11-12  ...   \n",
       "2                     Marketing Assistant  2006-08-26  1986-12-01  ...   \n",
       "3                     Engineering Manager  2007-06-11  1974-06-12  ...   \n",
       "4                    Senior Tool Designer  2007-07-05  1974-07-23  ...   \n",
       "5                    Senior Tool Designer  2007-07-05  1974-07-23  ...   \n",
       "...                                   ...         ...         ...  ...   \n",
       "292                  Sales Representative  2011-12-29  1975-04-30  ...   \n",
       "293                  Sales Representative  2012-04-30  1977-08-05  ...   \n",
       "294                 Pacific Sales Manager  2012-10-12  1974-08-11  ...   \n",
       "295                  Sales Representative  2012-12-28  1975-02-06  ...   \n",
       "296                  Sales Representative  2012-12-28  1970-10-16  ...   \n",
       "\n",
       "            BaseRate VacationHours SickLeaveHours CurrentFlag SalesPersonFlag  \\\n",
       "EmployeeKey                                                                     \n",
       "1            12.4500            21             30           1               0   \n",
       "2            13.4615            42             41           1               0   \n",
       "3            43.2692             2             21           1               0   \n",
       "4            29.8462            48             80           1               0   \n",
       "5            29.8462            48             80           1               0   \n",
       "...              ...           ...            ...         ...             ...   \n",
       "292          23.0769            34             37           1               1   \n",
       "293          23.0769            39             39           1               1   \n",
       "294          48.1010            20             30           1               1   \n",
       "295          23.0769            35             37           1               1   \n",
       "296          23.0769            36             38           1               1   \n",
       "\n",
       "            DepartmentName                                      EmployeePhoto  \\\n",
       "EmployeeKey                                                                     \n",
       "1               Production  b'\\xff\\xd8\\xff\\xe0\\x00\\x10JFIF\\x00\\x01\\x01\\x01...   \n",
       "2                Marketing  b'\\xff\\xd8\\xff\\xe0\\x00\\x10JFIF\\x00\\x01\\x01\\x01...   \n",
       "3              Engineering  b'\\xff\\xd8\\xff\\xe0\\x00\\x10JFIF\\x00\\x01\\x01\\x01...   \n",
       "4              Tool Design  b'\\xff\\xd8\\xff\\xe0\\x00\\x10JFIF\\x00\\x01\\x01\\x01...   \n",
       "5              Tool Design  b'\\xff\\xd8\\xff\\xe0\\x00\\x10JFIF\\x00\\x01\\x01\\x01...   \n",
       "...                    ...                                                ...   \n",
       "292                  Sales  b'\\xff\\xd8\\xff\\xe0\\x00\\x10JFIF\\x00\\x01\\x01\\x01...   \n",
       "293                  Sales  b'\\xff\\xd8\\xff\\xe0\\x00\\x10JFIF\\x00\\x01\\x01\\x01...   \n",
       "294                  Sales  b'\\xff\\xd8\\xff\\xe0\\x00\\x10JFIF\\x00\\x01\\x01\\x01...   \n",
       "295                  Sales  b'\\xff\\xd8\\xff\\xe0\\x00\\x10JFIF\\x00\\x01\\x01\\x01...   \n",
       "296                  Sales  b'\\x89PNG\\r\\n\\x1a\\n\\x00\\x00\\x00\\rIHDR\\x00\\x00\\...   \n",
       "\n",
       "                         Position  EmployeeKey  SalesTerritoryKey  \n",
       "EmployeeKey                                                        \n",
       "1                            None        277.0                1.0  \n",
       "2                            None        286.0                1.0  \n",
       "3                            None        289.0                1.0  \n",
       "4                            None        293.0                1.0  \n",
       "5                            None        272.0                2.0  \n",
       "...                           ...          ...                ...  \n",
       "292          Sales Representative          NaN                NaN  \n",
       "293          Sales Representative          NaN                NaN  \n",
       "294                 Sales Manager          NaN                NaN  \n",
       "295          Sales Representative          NaN                NaN  \n",
       "296          Sales Representative          NaN                NaN  \n",
       "\n",
       "[296 rows x 29 columns]"
      ]
     },
     "execution_count": 35,
     "metadata": {},
     "output_type": "execute_result"
    }
   ],
   "source": [
    "d_emp.set_index(\"EmployeeKey\",inplace=True)\n",
    "d_emp.join(d_est)"
   ]
  },
  {
   "cell_type": "code",
   "execution_count": 36,
   "id": "d86d9dbd-f816-47bd-b5e6-0c9c34608d6a",
   "metadata": {
    "jupyter": {
     "source_hidden": true
    }
   },
   "outputs": [
    {
     "name": "stdout",
     "output_type": "stream",
     "text": [
      "righe e colonne df risultante: (296, 29)\n",
      "righe e colonne d_emp: (296, 27)\n",
      "righe e colonne d_est: (39, 2)\n"
     ]
    }
   ],
   "source": [
    "#verifica delle dimensioni tabella\n",
    "df_r=d_emp.join(d_est)\n",
    "print(\"righe e colonne df risultante:\",df_r.shape)\n",
    "print(\"righe e colonne d_emp:\",d_emp.shape)\n",
    "print(\"righe e colonne d_est:\",d_est.shape)"
   ]
  },
  {
   "cell_type": "code",
   "execution_count": 37,
   "id": "a5a78114-1bcf-4332-bf2c-d5a180edb9dd",
   "metadata": {
    "jupyter": {
     "source_hidden": true
    }
   },
   "outputs": [
    {
     "data": {
      "text/plain": [
       "Index(['SalesTerritoryKey', 'SalesTerritoryAlternateKey',\n",
       "       'SalesTerritoryRegion', 'SalesTerritoryCountry', 'SalesTerritoryGroup',\n",
       "       'SalesTerritoryImage'],\n",
       "      dtype='object')"
      ]
     },
     "execution_count": 37,
     "metadata": {},
     "output_type": "execute_result"
    }
   ],
   "source": [
    "#importo DataFrame dimsalesterritory\n",
    "query = \"\"\"SELECT *\n",
    "           FROM dimsalesterritory\"\"\"\n",
    "\n",
    "dim = pd.read_sql(sqlalchemy.text(query), db_engine.connect())\n",
    "dim.columns"
   ]
  },
  {
   "cell_type": "code",
   "execution_count": 38,
   "id": "9ad3eab0-fe02-4de8-8ea2-e837557f6159",
   "metadata": {},
   "outputs": [],
   "source": [
    "df_r.set_index('SalesTerritoryKey',inplace=True)\n",
    "dim.set_index('SalesTerritoryKey',inplace=True)\n",
    "res = df_r.join(dim)\n"
   ]
  },
  {
   "cell_type": "code",
   "execution_count": 42,
   "id": "95c0bcc1-5103-4006-b03c-493cf404d84e",
   "metadata": {},
   "outputs": [
    {
     "name": "stdout",
     "output_type": "stream",
     "text": [
      "<class 'pandas.core.frame.DataFrame'>\n",
      "Float64Index: 296 entries, 1.0 to nan\n",
      "Data columns (total 33 columns):\n",
      " #   Column                                Non-Null Count  Dtype  \n",
      "---  ------                                --------------  -----  \n",
      " 0   ParentEmployeeKey                     295 non-null    float64\n",
      " 1   EmployeeNationalIDAlternateKey        296 non-null    int64  \n",
      " 2   ParentEmployeeNationalIDAlternateKey  295 non-null    float64\n",
      " 3   FirstName                             296 non-null    object \n",
      " 4   LastName                              296 non-null    object \n",
      " 5   MiddleName                            283 non-null    object \n",
      " 6   NameStyle                             296 non-null    int64  \n",
      " 7   Title                                 296 non-null    object \n",
      " 8   HireDate                              296 non-null    object \n",
      " 9   BirthDate                             296 non-null    object \n",
      " 10  LoginID                               296 non-null    object \n",
      " 11  EmailAddress                          296 non-null    object \n",
      " 12  Phone                                 296 non-null    object \n",
      " 13  MaritalStatus                         296 non-null    object \n",
      " 14  EmergencyContactName                  296 non-null    object \n",
      " 15  EmergencyContactPhone                 296 non-null    object \n",
      " 16  SalariedFlag                          296 non-null    int64  \n",
      " 17  Gender                                296 non-null    object \n",
      " 18  PayFrequency                          296 non-null    int64  \n",
      " 19  BaseRate                              296 non-null    float64\n",
      " 20  VacationHours                         296 non-null    int64  \n",
      " 21  SickLeaveHours                        296 non-null    int64  \n",
      " 22  CurrentFlag                           296 non-null    int64  \n",
      " 23  SalesPersonFlag                       296 non-null    int64  \n",
      " 24  DepartmentName                        296 non-null    object \n",
      " 25  EmployeePhoto                         296 non-null    object \n",
      " 26  Position                              18 non-null     object \n",
      " 27  EmployeeKey                           38 non-null     float64\n",
      " 28  SalesTerritoryAlternateKey            38 non-null     float64\n",
      " 29  SalesTerritoryRegion                  38 non-null     object \n",
      " 30  SalesTerritoryCountry                 38 non-null     object \n",
      " 31  SalesTerritoryGroup                   38 non-null     object \n",
      " 32  SalesTerritoryImage                   38 non-null     object \n",
      "dtypes: float64(5), int64(8), object(20)\n",
      "memory usage: 78.6+ KB\n"
     ]
    }
   ],
   "source": [
    "res.info()"
   ]
  },
  {
   "cell_type": "code",
   "execution_count": null,
   "id": "27cfe0bc-2e93-4c3f-9d0d-4f962f9e8f89",
   "metadata": {},
   "outputs": [],
   "source": [
    "res.groupby("
   ]
  }
 ],
 "metadata": {
  "kernelspec": {
   "display_name": "Python 3 (ipykernel)",
   "language": "python",
   "name": "python3"
  },
  "language_info": {
   "codemirror_mode": {
    "name": "ipython",
    "version": 3
   },
   "file_extension": ".py",
   "mimetype": "text/x-python",
   "name": "python",
   "nbconvert_exporter": "python",
   "pygments_lexer": "ipython3",
   "version": "3.11.7"
  }
 },
 "nbformat": 4,
 "nbformat_minor": 5
}
