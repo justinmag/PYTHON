{
 "cells": [
  {
   "cell_type": "code",
   "execution_count": 1,
   "id": "38f91e5e-cec6-4285-95ef-301150b5acd0",
   "metadata": {},
   "outputs": [],
   "source": [
    "import numpy as np\n",
    "import pandas as pd\n",
    "import math\n"
   ]
  },
  {
   "cell_type": "code",
   "execution_count": 12,
   "id": "997e9ada-0cba-4e85-8c5c-54d32033f9df",
   "metadata": {},
   "outputs": [
    {
     "name": "stdout",
     "output_type": "stream",
     "text": [
      "[1, 2, 3, 4]\n",
      "[1 2 3 4]\n"
     ]
    }
   ],
   "source": [
    "lista=[1,2,3,4]\n",
    "elenco=np.array(lista)\n",
    "type(elenco)\n",
    "\n",
    "print(lista)\n",
    "print(elenco)\n"
   ]
  },
  {
   "cell_type": "code",
   "execution_count": 53,
   "id": "b9a9f923-79d2-4f55-a511-7e6e2b98e702",
   "metadata": {},
   "outputs": [
    {
     "name": "stdout",
     "output_type": "stream",
     "text": [
      "[0, 1, 2, 3, 4]\n",
      "1\n",
      "[1, 2]\n",
      "[[0, 1, 2, 3, 4], [5, 6, 7, 8, 9]]\n"
     ]
    }
   ],
   "source": [
    "mat = [[0, 1, 2, 3, 4],\n",
    "       [5, 6, 7, 8, 9],\n",
    "       [10, 11, 12, 13, 14]]\n",
    "\n",
    "print(mat[0])       #accesso tramite indice\n",
    "print(mat[0][1])   #accesso tramite indice e indicizazzione orizzontale\n",
    "print(mat[0][1:3]) #accesso con indice + slicing orizzontale\n",
    "print(mat[0:2])   #slicing"
   ]
  },
  {
   "cell_type": "code",
   "execution_count": 4,
   "id": "83047bde-1721-4b12-ab87-801ea115add5",
   "metadata": {},
   "outputs": [
    {
     "name": "stdout",
     "output_type": "stream",
     "text": [
      "-0.5440211108893698\n"
     ]
    }
   ],
   "source": [
    "import math\n",
    "x=math.sin(10)\n",
    "print(x)"
   ]
  },
  {
   "cell_type": "code",
   "execution_count": 10,
   "id": "61c952d2-5f66-4d59-a1cd-59ec0db234fb",
   "metadata": {},
   "outputs": [
    {
     "name": "stdout",
     "output_type": "stream",
     "text": [
      "seno di 10 è uguale a: -0.5440211108893698\n",
      "coseno di 10 è uguale a: -0.8390715290764524\n",
      "factorial di 10 è uguale a: 3628800\n"
     ]
    }
   ],
   "source": [
    "import math\n",
    "v=10\n",
    "x=math.sin(v)\n",
    "print(\"seno di\",v,\"è uguale a:\",x)\n",
    "\n",
    "x=math.cos(v)\n",
    "print(\"coseno di\",v,\"è uguale a:\",x)\n",
    "\n",
    "\n",
    "x=math.factorial(v)\n",
    "print(\"factorial di\",v,\"è uguale a:\",x)\n",
    "\n",
    "\n"
   ]
  },
  {
   "cell_type": "code",
   "execution_count": 12,
   "id": "719e52f5-3f38-4fa2-a5da-27a9a2c77fb4",
   "metadata": {},
   "outputs": [
    {
     "name": "stdout",
     "output_type": "stream",
     "text": [
      "Help on built-in function degrees in module math:\n",
      "\n",
      "degrees(x, /)\n",
      "    Convert angle x from radians to degrees.\n",
      "\n"
     ]
    }
   ],
   "source": [
    "math.degrees(math.pi)\n",
    "help(math.degrees)"
   ]
  },
  {
   "cell_type": "code",
   "execution_count": 33,
   "id": "ba1ae1fb-685c-4dba-b99e-457f6bda8cf7",
   "metadata": {},
   "outputs": [
    {
     "name": "stdout",
     "output_type": "stream",
     "text": [
      "vendita massima mensile: 8150\n",
      "minor vendita mensile; 1280\n",
      "vendite maggiori di 4999 : [5500 7200 6410 8150 7100 5350]\n",
      "media dei prodotti venduti mensilmente: 4634.166666666667\n"
     ]
    }
   ],
   "source": [
    "lst = [2000, 5500, 7200,\n",
    "       4320, 1280, 1900,\n",
    "       2500, 3900, 6410,\n",
    "       8150, 7100, 5350]\n",
    "import numpy as np\n",
    "lst=np.array(lst)\n",
    "x=4999\n",
    "v_maggiori=lst>x\n",
    "\n",
    "print(\"vendita massima mensile:\",max(lst))\n",
    "print(\"minor vendita mensile;\",min(lst))\n",
    "print(\"vendite maggiori di\",x,\":\",lst[v_maggiori])\n",
    "print(\"media dei prodotti venduti mensilmente:\",lst.mean())\n"
   ]
  },
  {
   "cell_type": "code",
   "execution_count": 42,
   "id": "6bbaa654-d28a-4b23-89db-84b0b2d95419",
   "metadata": {},
   "outputs": [],
   "source": [
    "import pandas as pd\n",
    "fatturati_dict = {1997: 12_000,1998: 15_000,\n",
    "                  1999: 20_000,2000: 23_000,\n",
    "                  2001: 25_000, 2002: 17_000,\n",
    "                  2003: 14_000, 2004: 21_000}\n",
    "\n",
    "fatturati_series = pd.Series([12_000,15_000,\n",
    "                              20_000, 23_000,\n",
    "                              25_000, 17_000,\n",
    "                              14_000, 21_000],\n",
    "                             index=range(1997, 2005))\n"
   ]
  },
  {
   "cell_type": "code",
   "execution_count": 68,
   "id": "8a9a67ba-d2f3-45e1-a531-a062483e2ccd",
   "metadata": {},
   "outputs": [
    {
     "name": "stdout",
     "output_type": "stream",
     "text": [
      "15000 \n",
      "\n",
      "2000\n",
      "2001\n",
      "2002\n",
      "2003\n"
     ]
    }
   ],
   "source": [
    "print(fatturati_dict[1998],\"\\n\")\n",
    "\n",
    "for fatturati in [2000,2001,2002,2003]:\n",
    " print (fatturati)"
   ]
  },
  {
   "cell_type": "code",
   "execution_count": 61,
   "id": "eed07d12-6989-49ed-a11f-6ef4c08917ac",
   "metadata": {},
   "outputs": [
    {
     "name": "stdout",
     "output_type": "stream",
     "text": [
      "15000 \n",
      "\n",
      "1998    15000\n",
      "1999    20000\n",
      "2000    23000\n",
      "dtype: int64\n"
     ]
    }
   ],
   "source": [
    "print(fatturati_series[1998],\"\\n\")\n",
    "\n",
    "print(fatturati_series.loc[1998:2000])"
   ]
  },
  {
   "cell_type": "code",
   "execution_count": 70,
   "id": "da89a77f-b019-47fb-9e88-2da5965f4bc1",
   "metadata": {},
   "outputs": [
    {
     "name": "stdout",
     "output_type": "stream",
     "text": [
      "[200, 400, 600, 800, 1000, 1200, 1400, 1600, 1800, 2000]\n"
     ]
    }
   ],
   "source": [
    "import numpy as np \n",
    "stipendi = np.array( [100, 200,300, 400, 500,\n",
    "                      600, 700, 800, 900, 1000] )\n",
    "stipendio_aument=[]\n",
    "for stipendio in stipendi:\n",
    "    stipendio_aument.append(stipendio*2)\n",
    "\n",
    "print (stipendio_aument)\n",
    "    "
   ]
  },
  {
   "cell_type": "code",
   "execution_count": 71,
   "id": "150e18d8-f01c-4924-96de-0a4528a78438",
   "metadata": {},
   "outputs": [
    {
     "data": {
      "text/plain": [
       "array([ 200,  400,  600,  800, 1000, 1200, 1400, 1600, 1800, 2000])"
      ]
     },
     "execution_count": 71,
     "metadata": {},
     "output_type": "execute_result"
    }
   ],
   "source": [
    "stipendi*2"
   ]
  },
  {
   "cell_type": "code",
   "execution_count": null,
   "id": "733f8dba-d710-4961-9fe0-71d1d24d9e07",
   "metadata": {},
   "outputs": [],
   "source": []
  }
 ],
 "metadata": {
  "kernelspec": {
   "display_name": "Python 3 (ipykernel)",
   "language": "python",
   "name": "python3"
  },
  "language_info": {
   "codemirror_mode": {
    "name": "ipython",
    "version": 3
   },
   "file_extension": ".py",
   "mimetype": "text/x-python",
   "name": "python",
   "nbconvert_exporter": "python",
   "pygments_lexer": "ipython3",
   "version": "3.11.7"
  }
 },
 "nbformat": 4,
 "nbformat_minor": 5
}
