{
 "cells": [
  {
   "cell_type": "code",
   "execution_count": 1,
   "id": "be3c5d03-f871-4ad6-b10f-623483a4b74e",
   "metadata": {},
   "outputs": [],
   "source": [
    "# es1"
   ]
  },
  {
   "cell_type": "code",
   "execution_count": 2,
   "id": "7720a2e8-c31d-4620-926c-58448f0d2aed",
   "metadata": {},
   "outputs": [],
   "source": [
    "studenti= 25"
   ]
  },
  {
   "cell_type": "code",
   "execution_count": 3,
   "id": "9d6fd4e0-3803-4fb5-b4db-1f6a927d3fb2",
   "metadata": {},
   "outputs": [],
   "source": [
    "# es2"
   ]
  },
  {
   "cell_type": "code",
   "execution_count": 4,
   "id": "7cf0fe80-d7c2-4b40-821c-89f1e65171bc",
   "metadata": {
    "scrolled": true
   },
   "outputs": [
    {
     "name": "stdout",
     "output_type": "stream",
     "text": [
      "25\n"
     ]
    }
   ],
   "source": [
    "print(studenti)"
   ]
  },
  {
   "cell_type": "code",
   "execution_count": 5,
   "id": "bcd6a246-66e7-466b-a141-48d0b7e15163",
   "metadata": {
    "scrolled": true
   },
   "outputs": [
    {
     "data": {
      "text/plain": [
       "25"
      ]
     },
     "execution_count": 5,
     "metadata": {},
     "output_type": "execute_result"
    }
   ],
   "source": [
    "studenti"
   ]
  },
  {
   "cell_type": "code",
   "execution_count": 6,
   "id": "0bbfab24-057e-4de3-8fbf-86be486a928e",
   "metadata": {},
   "outputs": [],
   "source": [
    "# es3"
   ]
  },
  {
   "cell_type": "code",
   "execution_count": 7,
   "id": "0abe61ff-d0a0-4f25-b220-508b76cb1b49",
   "metadata": {},
   "outputs": [],
   "source": [
    "B= 25\n",
    "C=3\n",
    "X= B+C"
   ]
  },
  {
   "cell_type": "code",
   "execution_count": 8,
   "id": "04e2e995-5a06-4dc0-a158-29331ce8cc21",
   "metadata": {
    "scrolled": true
   },
   "outputs": [
    {
     "name": "stdout",
     "output_type": "stream",
     "text": [
      "28\n"
     ]
    }
   ],
   "source": [
    "print (X)"
   ]
  },
  {
   "cell_type": "code",
   "execution_count": 9,
   "id": "a2903728-f6f1-4b35-ba8e-41f1aa14d8c6",
   "metadata": {},
   "outputs": [],
   "source": [
    "# es4"
   ]
  },
  {
   "cell_type": "code",
   "execution_count": 10,
   "id": "e60a12ee-868d-4a6b-81d9-10b6c345f2e4",
   "metadata": {
    "scrolled": true
   },
   "outputs": [],
   "source": [
    "nome=\"epicode\""
   ]
  },
  {
   "cell_type": "code",
   "execution_count": 11,
   "id": "de1c81f4-c8f2-4826-a058-4456e6449d47",
   "metadata": {
    "scrolled": true
   },
   "outputs": [
    {
     "name": "stdout",
     "output_type": "stream",
     "text": [
      "epicode\n"
     ]
    }
   ],
   "source": [
    "print (nome)"
   ]
  },
  {
   "cell_type": "code",
   "execution_count": 12,
   "id": "1c2368a7-ffe6-4b24-8595-9aed70cbe6c0",
   "metadata": {},
   "outputs": [],
   "source": [
    "# es5"
   ]
  },
  {
   "cell_type": "code",
   "execution_count": 13,
   "id": "24aab5cb-aeaa-4551-b3c5-b617fdc939e7",
   "metadata": {},
   "outputs": [],
   "source": [
    "x= 10\n",
    "y= x/5\n",
    "z=3"
   ]
  },
  {
   "cell_type": "code",
   "execution_count": 14,
   "id": "77309df0-6a2c-4980-a0b4-78dc77509673",
   "metadata": {},
   "outputs": [],
   "source": [
    "r= (x+y)*z"
   ]
  },
  {
   "cell_type": "code",
   "execution_count": 15,
   "id": "595c2ee4-17fd-40f6-ad6e-c15d80ccc3be",
   "metadata": {
    "scrolled": true
   },
   "outputs": [
    {
     "data": {
      "text/plain": [
       "36.0"
      ]
     },
     "execution_count": 15,
     "metadata": {},
     "output_type": "execute_result"
    }
   ],
   "source": [
    "r"
   ]
  },
  {
   "cell_type": "code",
   "execution_count": 16,
   "id": "b1eaafba-a4e6-4839-93a7-2560f1a784fe",
   "metadata": {},
   "outputs": [],
   "source": [
    "r2= (x+2)*3"
   ]
  },
  {
   "cell_type": "code",
   "execution_count": 17,
   "id": "5bfd1cdc-d334-467e-834f-26c5dba62eaa",
   "metadata": {
    "scrolled": true
   },
   "outputs": [
    {
     "data": {
      "text/plain": [
       "36"
      ]
     },
     "execution_count": 17,
     "metadata": {},
     "output_type": "execute_result"
    }
   ],
   "source": [
    "r2"
   ]
  },
  {
   "cell_type": "code",
   "execution_count": 18,
   "id": "4eb919cc-7434-4bc4-af9f-71afd41b078e",
   "metadata": {},
   "outputs": [],
   "source": [
    "# es6"
   ]
  },
  {
   "cell_type": "code",
   "execution_count": 19,
   "id": "5e7dce41-d25f-43f8-8b6f-4f9810441dcc",
   "metadata": {},
   "outputs": [],
   "source": [
    "str1 = \"Windows\"\n",
    "str2 = \"Excel\" \n",
    "str3 = \"Powerpoint\" \n",
    "str4 = \"Word\""
   ]
  },
  {
   "cell_type": "code",
   "execution_count": 20,
   "id": "0d3c34ec-1d04-4643-be4f-d77dda0b9764",
   "metadata": {
    "scrolled": true
   },
   "outputs": [
    {
     "name": "stdout",
     "output_type": "stream",
     "text": [
      "str1 compreso\n"
     ]
    }
   ],
   "source": [
    "len(str1)\n",
    "if len(str1)>5 and len(str1)<8:\n",
    "    print(\"str1 compreso\")\n",
    "else:\n",
    "    print (\"str1 non compreso\")\n"
   ]
  },
  {
   "cell_type": "code",
   "execution_count": 21,
   "id": "3af0348f-db7e-45ca-8de7-af67fb36633d",
   "metadata": {
    "scrolled": true
   },
   "outputs": [
    {
     "name": "stdout",
     "output_type": "stream",
     "text": [
      "str2 non compreso\n"
     ]
    }
   ],
   "source": [
    "len(str2)\n",
    "if len(str2)>5 and len(str2)<8:\n",
    "    print(\"str2 compreso\")\n",
    "else:\n",
    "    print (\"str2 non compreso\")"
   ]
  },
  {
   "cell_type": "code",
   "execution_count": 22,
   "id": "1a418df1-6aa6-4757-a80e-b1a1c6cdc567",
   "metadata": {
    "scrolled": true
   },
   "outputs": [
    {
     "name": "stdout",
     "output_type": "stream",
     "text": [
      "str3 non compreso\n"
     ]
    }
   ],
   "source": [
    "len(str3)\n",
    "if len(str3)>5 and len(str3)<8:\n",
    "    print(\"str3 compreso\")\n",
    "else:\n",
    "    print (\"str3 non compreso\")"
   ]
  },
  {
   "cell_type": "code",
   "execution_count": 23,
   "id": "12f1a95a-9dfb-460f-aed7-f8e7895fedc7",
   "metadata": {
    "scrolled": true
   },
   "outputs": [
    {
     "name": "stdout",
     "output_type": "stream",
     "text": [
      "str4 non compreso\n"
     ]
    }
   ],
   "source": [
    "len(str4)\n",
    "if len(str4)>5 and len(str4)<8:\n",
    "    print(\"str4 compreso\")\n",
    "else:\n",
    "    print (\"str4 non compreso\")"
   ]
  },
  {
   "cell_type": "code",
   "execution_count": 24,
   "id": "9a55b017-7a7d-42d9-be6d-7d303a17a2aa",
   "metadata": {},
   "outputs": [],
   "source": [
    "# es7"
   ]
  },
  {
   "cell_type": "code",
   "execution_count": 25,
   "id": "cb235199-94ba-4a99-8c66-6186e19a0546",
   "metadata": {
    "scrolled": true
   },
   "outputs": [
    {
     "name": "stdout",
     "output_type": "stream",
     "text": [
      "Un anno contiene 31536000 secondi\n"
     ]
    }
   ],
   "source": [
    "giorni_anno = 365\n",
    "ore_giorno = 24\n",
    "minuti_ora = 60\n",
    "secondi_in_minuto = 60\n",
    "secondi_per_anno= giorni_anno*ore_giorno*minuti_ora*secondi_in_minuto\n",
    "print(\"Un anno contiene\",secondi_per_anno,\"secondi\")"
   ]
  },
  {
   "cell_type": "code",
   "execution_count": 26,
   "id": "28da5efb-6bfb-4647-8d50-f772bb882c18",
   "metadata": {
    "scrolled": true
   },
   "outputs": [
    {
     "name": "stdout",
     "output_type": "stream",
     "text": [
      "  I AM STUDY PYTHON\n",
      "  i am study python\n",
      "  I am study a lot\n",
      "I am study python\n"
     ]
    }
   ],
   "source": [
    "stringa=\"  I am study python\"\n",
    "\n",
    "print(stringa.upper())\n",
    "print(stringa.lower())\n",
    "print(stringa.replace(\"python\",\"a lot\"))\n",
    "print(stringa.strip())"
   ]
  },
  {
   "cell_type": "code",
   "execution_count": null,
   "id": "35b55845-e3c3-4573-bab7-14c6bc29971b",
   "metadata": {},
   "outputs": [],
   "source": []
  },
  {
   "cell_type": "code",
   "execution_count": null,
   "id": "256b1760-c2f0-4935-9304-dd82fcb0b7a3",
   "metadata": {},
   "outputs": [],
   "source": []
  }
 ],
 "metadata": {
  "kernelspec": {
   "display_name": "Python 3 (ipykernel)",
   "language": "python",
   "name": "python3"
  },
  "language_info": {
   "codemirror_mode": {
    "name": "ipython",
    "version": 3
   },
   "file_extension": ".py",
   "mimetype": "text/x-python",
   "name": "python",
   "nbconvert_exporter": "python",
   "pygments_lexer": "ipython3",
   "version": "3.11.7"
  }
 },
 "nbformat": 4,
 "nbformat_minor": 5
}
