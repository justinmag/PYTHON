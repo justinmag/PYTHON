{
 "cells": [
  {
   "cell_type": "code",
   "execution_count": 1,
   "id": "ca57737f-1a8e-4fb4-b026-9e0fb5c531c6",
   "metadata": {},
   "outputs": [],
   "source": [
    "# ES1"
   ]
  },
  {
   "cell_type": "code",
   "execution_count": 2,
   "id": "197b44f8-233a-4bcd-ac5f-a7fa01ffcca1",
   "metadata": {},
   "outputs": [
    {
     "name": "stdout",
     "output_type": "stream",
     "text": [
      "- E\n",
      "- p\n",
      "- i\n",
      "- c\n",
      "- o\n",
      "- d\n",
      "- e\n"
     ]
    }
   ],
   "source": [
    "nome_scuola = \"Epicode\"\n",
    "indice =0\n",
    "while indice<len(nome_scuola):\n",
    "    lettera = nome_scuola[indice]\n",
    "    print(\"-\",lettera)\n",
    "    indice +=1\n",
    "    \n",
    "    \n",
    "   \n",
    "   "
   ]
  },
  {
   "cell_type": "code",
   "execution_count": 3,
   "id": "698b42e2-44e1-4261-9c23-c185b4a9dfe0",
   "metadata": {},
   "outputs": [],
   "source": [
    "# ES2"
   ]
  },
  {
   "cell_type": "code",
   "execution_count": 4,
   "id": "73372a57-c0ff-45c0-af75-a9037bbf6679",
   "metadata": {
    "scrolled": true
   },
   "outputs": [
    {
     "name": "stdout",
     "output_type": "stream",
     "text": [
      "- 1\n",
      "- 2\n",
      "- 3\n",
      "- 4\n",
      "- 5\n",
      "- 6\n",
      "- 7\n",
      "- 8\n",
      "- 9\n",
      "- 10\n",
      "- 11\n",
      "- 12\n",
      "- 13\n",
      "- 14\n",
      "- 15\n",
      "- 16\n",
      "- 17\n",
      "- 18\n",
      "- 19\n",
      "- 20\n"
     ]
    }
   ],
   "source": [
    "numeri=(1,2,3,4,5,6,7,8,9,10,11,12,13,14,15,16,17,18,19,20)\n",
    "indice=0\n",
    "while indice<20:\n",
    "    num=numeri[indice]\n",
    "    print(\"-\",num)\n",
    "    indice+=1\n",
    "   \n"
   ]
  },
  {
   "cell_type": "code",
   "execution_count": 5,
   "id": "a3f8a1b8-d198-47c9-86ac-2bd9013c7c3e",
   "metadata": {},
   "outputs": [],
   "source": [
    "#ES 3"
   ]
  },
  {
   "cell_type": "code",
   "execution_count": 6,
   "id": "0010d5fa-62c9-4f89-8615-d8c4bd10e709",
   "metadata": {},
   "outputs": [
    {
     "name": "stdout",
     "output_type": "stream",
     "text": [
      "2 alla 1 è uguale a 4\n",
      "2 alla 2 è uguale a 8\n",
      "2 alla 3 è uguale a 16\n",
      "2 alla 4 è uguale a 32\n",
      "2 alla 5 è uguale a 64\n",
      "2 alla 6 è uguale a 128\n",
      "2 alla 7 è uguale a 256\n",
      "2 alla 8 è uguale a 512\n",
      "2 alla 9 è uguale a 1024\n"
     ]
    }
   ],
   "source": [
    "input=(1,2,3,4,5,6,7,8,9,10)\n",
    "num=2\n",
    "indice=1\n",
    "while indice<10:\n",
    "    potenza=num**input[indice]\n",
    "    print(num,\"alla\",indice,\"è uguale a\",potenza)\n",
    "    indice+=1\n",
    "    "
   ]
  },
  {
   "cell_type": "code",
   "execution_count": 7,
   "id": "f53d4b5d-1483-494f-808c-0b2faa70adcf",
   "metadata": {},
   "outputs": [],
   "source": [
    "#ES 4"
   ]
  },
  {
   "cell_type": "code",
   "execution_count": 8,
   "id": "ad4c0885-3470-4adc-8894-5417cae327e5",
   "metadata": {
    "scrolled": true
   },
   "outputs": [
    {
     "name": "stdout",
     "output_type": "stream",
     "text": [
      "2 alla 1 è uguale a 4\n",
      "2 alla 2 è uguale a 8\n",
      "2 alla 3 è uguale a 16\n",
      "2 alla 4 è uguale a 32\n",
      "2 alla 5 è uguale a 64\n",
      "2 alla 6 è uguale a 128\n",
      "2 alla 7 è uguale a 256\n",
      "2 alla 8 è uguale a 512\n",
      "2 alla 9 è uguale a 1024\n"
     ]
    }
   ],
   "source": [
    "n=(1,2,3,4,5,6,7,8,9,10)\n",
    "num=2\n",
    "indice=1\n",
    "while indice<10:\n",
    "    potenza=num**n[indice]\n",
    "    print(num,\"alla\",indice,\"è uguale a\",potenza)\n",
    "    indice+=1\n",
    "    \n"
   ]
  },
  {
   "cell_type": "code",
   "execution_count": 9,
   "id": "44422a7f-a77f-4cb2-a2f5-7063124c67b5",
   "metadata": {},
   "outputs": [],
   "source": [
    "#ES 5"
   ]
  },
  {
   "cell_type": "code",
   "execution_count": 10,
   "id": "5a8f86de-b35a-4f80-a30c-deb10561b7e4",
   "metadata": {},
   "outputs": [
    {
     "name": "stdout",
     "output_type": "stream",
     "text": [
      "2\n",
      "4\n",
      "8\n",
      "16\n",
      "32\n",
      "64\n",
      "128\n",
      "256\n",
      "512\n",
      "1024\n",
      "2048\n",
      "4096\n",
      "8192\n",
      "16384\n"
     ]
    }
   ],
   "source": [
    "num=2\n",
    "indice=1\n",
    "while potenza<25000:\n",
    "    potenza=num**indice\n",
    "    if potenza<25000:\n",
    "        print(potenza)\n",
    "        indice+=1"
   ]
  },
  {
   "cell_type": "code",
   "execution_count": 11,
   "id": "7665ae1e-9637-4448-b385-66ed7ce14342",
   "metadata": {},
   "outputs": [],
   "source": [
    "#ES 6"
   ]
  },
  {
   "cell_type": "code",
   "execution_count": 12,
   "id": "ad598598-ae1d-44a2-8d80-4ddddc3eac04",
   "metadata": {},
   "outputs": [
    {
     "name": "stdout",
     "output_type": "stream",
     "text": [
      "['Cybersecurity', 'Data Analyst', 'Backend', 'Frontend', 'Data Analyst', 'Backend', 'Frontend', 'Cybersecutity']\n"
     ]
    }
   ],
   "source": [
    "studenti = [\"Alex\", \"Bob\", \"Cindy\", \"Dan\", \"Emma\", \"Faith\", \"Grace\", \"Henry\"] \n",
    "corsi= [\"Cybersecurity\", \"Data Analyst\", \"Backend\", \"Frontend\", \"Data Analyst\", \"Backend\"]\n",
    "nuovi_inscritti=[\"Emma-Data Analyst\",\"Faith -Backend\",\"Grace-Frontend\",\"Henry-Cybersecurity\"]\n",
    "corsi.append(\"Frontend\")\n",
    "corsi.append(\"Cybersecutity\")\n",
    "if len(studenti)==len(corsi):\n",
    "    print(corsi)\n",
    "else:print(\"inserire corsi\")"
   ]
  },
  {
   "cell_type": "code",
   "execution_count": 13,
   "id": "2ee29cc4-0bec-4d2a-ab84-d2b642b3176e",
   "metadata": {},
   "outputs": [],
   "source": [
    "#ES 7"
   ]
  },
  {
   "cell_type": "code",
   "execution_count": 14,
   "id": "a3a1643a-5b70-4777-8da9-b09d6b8c0be7",
   "metadata": {},
   "outputs": [
    {
     "name": "stdout",
     "output_type": "stream",
     "text": [
      "moaf98diw -primi 3 valori: ( moa ) -ultimi 3 valori: ( diw )\n"
     ]
    }
   ],
   "source": [
    "codice=\"moaf98diw\"\n",
    "print(codice,\"-primi 3 valori:\",\"(\",codice[0:3],\")\",\"-ultimi 3 valori:\",\"(\",codice[-3:],\")\")"
   ]
  },
  {
   "cell_type": "code",
   "execution_count": 15,
   "id": "2acce311-0c62-4633-9c9b-3df2e366aaf1",
   "metadata": {},
   "outputs": [],
   "source": [
    "#ES 8"
   ]
  },
  {
   "cell_type": "code",
   "execution_count": 16,
   "id": "e70bee52-ccad-4100-a3e0-8cc2096fa9b2",
   "metadata": {},
   "outputs": [
    {
     "name": "stdout",
     "output_type": "stream",
     "text": [
      "2\n",
      "3\n",
      "5\n",
      "5\n"
     ]
    }
   ],
   "source": [
    "numero=150\n",
    "div=2\n",
    "\n",
    "while div<=numero:\n",
    "    if numero % div==0:\n",
    "        numero/=div\n",
    "        while numero%div==0:\n",
    "            numero/=div\n",
    "            print(div)\n",
    "        print(div)\n",
    "    div+=1\n",
    " \n"
   ]
  },
  {
   "cell_type": "code",
   "execution_count": 17,
   "id": "365f2355-1021-4b49-99b5-6cf5731c98df",
   "metadata": {},
   "outputs": [],
   "source": [
    "#ES 9"
   ]
  },
  {
   "cell_type": "code",
   "execution_count": 18,
   "id": "1aa2bfe4-8b04-4576-85f1-836dbcbbaccd",
   "metadata": {},
   "outputs": [
    {
     "name": "stdout",
     "output_type": "stream",
     "text": [
      "E\n",
      "p\n",
      "i\n",
      "c\n",
      "o\n",
      "d\n",
      "e\n"
     ]
    }
   ],
   "source": [
    "nome_scuola=\"Epicode\"\n",
    "\n",
    "for nome in nome_scuola:\n",
    "    print(nome)"
   ]
  },
  {
   "cell_type": "code",
   "execution_count": 19,
   "id": "a3a866ee-0bf9-4cb2-be8a-496b3cb4628b",
   "metadata": {},
   "outputs": [],
   "source": [
    "#ES 10"
   ]
  },
  {
   "cell_type": "code",
   "execution_count": 20,
   "id": "754ff1fd-f7b0-4802-8ee7-3a644f2fe553",
   "metadata": {},
   "outputs": [
    {
     "name": "stdout",
     "output_type": "stream",
     "text": [
      "2\n",
      "4\n",
      "8\n",
      "16\n",
      "32\n",
      "64\n",
      "128\n",
      "256\n",
      "512\n",
      "1024\n"
     ]
    }
   ],
   "source": [
    "num=2\n",
    "range=int(1)\n",
    "while range<=10:\n",
    "    potenza=num**range\n",
    "    if range<=10:\n",
    "        print(potenza)\n",
    "        range+=1"
   ]
  },
  {
   "cell_type": "code",
   "execution_count": 21,
   "id": "c7a78dbb-d241-4941-835a-6ec2753d8ff1",
   "metadata": {},
   "outputs": [],
   "source": [
    "#ES 11"
   ]
  },
  {
   "cell_type": "code",
   "execution_count": 7,
   "id": "c20f000b-9a5c-4a32-9d94-5d4cdd362040",
   "metadata": {},
   "outputs": [
    {
     "ename": "TypeError",
     "evalue": "type 'int' is not subscriptable",
     "output_type": "error",
     "traceback": [
      "\u001b[1;31m---------------------------------------------------------------------------\u001b[0m",
      "\u001b[1;31mTypeError\u001b[0m                                 Traceback (most recent call last)",
      "Cell \u001b[1;32mIn[7], line 2\u001b[0m\n\u001b[0;32m      1\u001b[0m K\u001b[38;5;241m=\u001b[39m\u001b[38;5;241m2\u001b[39m\n\u001b[1;32m----> 2\u001b[0m N\u001b[38;5;241m=\u001b[39m\u001b[38;5;28mint\u001b[39m[\u001b[38;5;241m1\u001b[39m]\n\u001b[0;32m      3\u001b[0m risultato\u001b[38;5;241m=\u001b[39m[]\n\u001b[0;32m      4\u001b[0m \u001b[38;5;28;01mwhile\u001b[39;00m N\u001b[38;5;241m<\u001b[39m\u001b[38;5;241m=\u001b[39m\u001b[38;5;241m10\u001b[39m:\n",
      "\u001b[1;31mTypeError\u001b[0m: type 'int' is not subscriptable"
     ]
    }
   ],
   "source": [
    "K=2\n",
    "N=[1]\n",
    "risultato=[]\n",
    "while N<=10:\n",
    "    risultato=K**N\n",
    "    if N<=10:\n",
    "        for n in N:\n",
    "            risultato.append(n**K)\n",
    "        N+=1"
   ]
  },
  {
   "cell_type": "code",
   "execution_count": null,
   "id": "bd0f5f3b-bf0e-4964-9c2d-21c26b5d1ba1",
   "metadata": {},
   "outputs": [],
   "source": []
  },
  {
   "cell_type": "code",
   "execution_count": null,
   "id": "8e5562ce-70e6-478e-ab1a-e85cee9bb56d",
   "metadata": {},
   "outputs": [],
   "source": []
  }
 ],
 "metadata": {
  "kernelspec": {
   "display_name": "Python 3 (ipykernel)",
   "language": "python",
   "name": "python3"
  },
  "language_info": {
   "codemirror_mode": {
    "name": "ipython",
    "version": 3
   },
   "file_extension": ".py",
   "mimetype": "text/x-python",
   "name": "python",
   "nbconvert_exporter": "python",
   "pygments_lexer": "ipython3",
   "version": "3.11.7"
  }
 },
 "nbformat": 4,
 "nbformat_minor": 5
}
